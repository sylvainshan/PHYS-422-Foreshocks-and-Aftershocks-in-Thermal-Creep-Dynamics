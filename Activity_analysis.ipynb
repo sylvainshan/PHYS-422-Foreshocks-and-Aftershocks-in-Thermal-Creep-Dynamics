{
 "cells": [
  {
   "cell_type": "code",
   "id": "initial_id",
   "metadata": {
    "collapsed": true,
    "ExecuteTime": {
     "end_time": "2024-06-05T21:13:15.136932Z",
     "start_time": "2024-06-05T21:13:13.878912Z"
    }
   },
   "source": [
    "import numpy as np\n",
    "%load_ext autoreload\n",
    "%autoreload 2\n",
    "from constants import *\n",
    "from plot_config import *\n",
    "from sample_analysis import *\n",
    "import matplotlib.cm as cm\n",
    "import matplotlib.pyplot as plt\n",
    "import matplotlib.colors as mcolors"
   ],
   "outputs": [],
   "execution_count": 1
  },
  {
   "cell_type": "code",
   "source": [
    "# Failure times loading parameters\n",
    "N_SAMPLES = 40\n",
    "N_SEGMENTS = 10\n",
    "start_id = 60\n",
    "stop_id = start_id + N_SAMPLES\n",
    "IDS = np.arange(start_id, stop_id)\n",
    "FILE_NAMES = [f'id=00{str(id)}.h5' for id in IDS]"
   ],
   "metadata": {
    "collapsed": false,
    "ExecuteTime": {
     "end_time": "2024-06-05T21:13:15.183047Z",
     "start_time": "2024-06-05T21:13:15.137928Z"
    }
   },
   "id": "afeabf502ebafc16",
   "outputs": [],
   "execution_count": 2
  },
  {
   "cell_type": "code",
   "source": [
    "SIGMA = 3.5  # Sets the timescale of avalanches\n",
    "TAU = 1.27  # Exponent of the power-law distribution of avalanche sizes"
   ],
   "metadata": {
    "collapsed": false,
    "ExecuteTime": {
     "end_time": "2024-06-05T21:13:15.230166Z",
     "start_time": "2024-06-05T21:13:15.184046Z"
    }
   },
   "id": "110346922ae632b8",
   "outputs": [],
   "execution_count": 3
  },
  {
   "cell_type": "code",
   "source": [
    "COMPUTE_ACTIVITY_FOR_RANDOM_MICROSCOPIC_EVENT = True\n",
    "COMPUTE_ACTIVITY_FOR_RANDOM_HEIGHTS = True\n",
    "COMPUTE_ACTIVITY_FOR_GIVEN_HEIGHTS = True\n",
    "\n",
    "THRESHOLD = 1\n",
    "\n",
    "# Number of peaks to consider when randomly selecting peaks\n",
    "RANDOM_SEED = 0\n",
    "N_RANDOM_PEAKS = 2000\n",
    "\n",
    "# Number of time windows to consider when counting events\n",
    "T = int(1e5)\n",
    "T_START = 1e-10\n",
    "T_END = 1\n",
    "DT = (T_END - T_START) / T\n",
    "print(f\"DT: {DT}\")\n",
    "\n",
    "\n",
    "# Number of peak heights to consider when filtering peaks\n",
    "N_H = 6\n",
    "START_STD_H = 4\n",
    "END_STD_H = 9\n",
    "VAR_H = 0.05"
   ],
   "metadata": {
    "collapsed": false,
    "ExecuteTime": {
     "end_time": "2024-06-05T21:13:15.275841Z",
     "start_time": "2024-06-05T21:13:15.231222Z"
    }
   },
   "id": "5ad5c148ba76ec31",
   "outputs": [
    {
     "name": "stdout",
     "output_type": "stream",
     "text": [
      "DT: 9.999999999e-06\n"
     ]
    }
   ],
   "execution_count": 4
  },
  {
   "cell_type": "code",
   "source": [
    "all_failure_times, _ = load_failure_data(filenames=FILE_NAMES,\n",
    "                                         directory=FAILURE_DATA_DIR,\n",
    "                                         loading_segments=N_SEGMENTS,\n",
    "                                         verbose=False)\n",
    "\n",
    "for failure_times in all_failure_times:\n",
    "    failure_times /= TAU_ALPHA"
   ],
   "metadata": {
    "collapsed": false,
    "jupyter": {
     "is_executing": true
    },
    "ExecuteTime": {
     "start_time": "2024-06-05T21:13:15.277834Z"
    }
   },
   "id": "9db99ffe2a7cf795",
   "outputs": [
    {
     "name": "stderr",
     "output_type": "stream",
     "text": [
      "  2%|▎         | 1/40 [00:05<03:49,  5.89s/it]"
     ]
    }
   ],
   "execution_count": null
  },
  {
   "metadata": {
    "jupyter": {
     "is_executing": true
    }
   },
   "cell_type": "code",
   "source": [
    "all_heights_stats = all_sample_heights_stats(all_failure_times=all_failure_times,\n",
    "                                             sigma=SIGMA,\n",
    "                                             threshold=THRESHOLD,\n",
    "                                             save=True,\n",
    "                                             filename=f\"heights_{start_id}-{stop_id - 1}_{N_SEGMENTS}seg_sigma{SIGMA}_threshold{THRESHOLD}.pkl\")\n",
    "\n",
    "MEAN_H = all_heights_stats['mean_all_h']\n",
    "STD_H = all_heights_stats['std_all_h']\n",
    "all_peak_heights = all_heights_stats['all_peak_h']\n",
    "\n",
    "print(f\"Number of peaks across {N_SAMPLES} samples: {len(all_peak_heights)}\")\n",
    "print(f\"Mean height: {MEAN_H}\")\n",
    "print(f\"Std height: {STD_H}\")\n",
    "\n",
    "N_STD = np.linspace(START_STD_H, END_STD_H, N_H)\n",
    "HEIGHTS = MEAN_H + N_STD * STD_H\n",
    "print(f\"Peak heights: {HEIGHTS}\")"
   ],
   "id": "78ca7f17c51b76d6",
   "outputs": [],
   "execution_count": null
  },
  {
   "metadata": {
    "jupyter": {
     "is_executing": true
    }
   },
   "cell_type": "code",
   "source": [
    "fit = powerlaw.Fit(all_peak_heights, xmin=min(all_peak_heights), xmax=max(all_peak_heights), discrete=True)\n",
    "print(f\"Exponent: {fit.alpha}\")\n",
    "print(f\"Error: {fit.sigma}\")"
   ],
   "id": "f1e530f583a7b679",
   "outputs": [],
   "execution_count": null
  },
  {
   "metadata": {
    "jupyter": {
     "is_executing": true
    }
   },
   "cell_type": "code",
   "source": [
    "height_bin_infos = {\n",
    "    'mean_h': MEAN_H,\n",
    "    'std_h': STD_H,\n",
    "    'n_std': N_STD,\n",
    "    'heights': HEIGHTS,\n",
    "}\n",
    "\n",
    "HEIGHTS_dir = os.path.join(SAVE_DIR, \"sample_data/heights_info\")\n",
    "if not os.path.exists(HEIGHTS_dir):\n",
    "    os.makedirs(HEIGHTS_dir)\n",
    "save_path = os.path.join(HEIGHTS_dir,\n",
    "                         f\"HEIGHTS_{start_id}-{stop_id - 1}_{N_SEGMENTS}seg_sigma{SIGMA}_threshold{THRESHOLD}.pkl\")\n",
    "with open(save_path, 'wb') as f:\n",
    "    pickle.dump(height_bin_infos, f)"
   ],
   "id": "804d998531e5b25a",
   "outputs": [],
   "execution_count": null
  },
  {
   "cell_type": "code",
   "source": [
    "output_dicts = []\n",
    "for i, failure_times in enumerate(all_failure_times):\n",
    "    print(f\"SAMPLE {i + 1}\")\n",
    "    output_dicts.append(\n",
    "        sample_analysis(times=failure_times,\n",
    "                        sigma=SIGMA,\n",
    "                        threshold=THRESHOLD,\n",
    "                        compute_activity_for_random_heights=COMPUTE_ACTIVITY_FOR_RANDOM_HEIGHTS,\n",
    "                        compute_activity_for_given_heights=COMPUTE_ACTIVITY_FOR_GIVEN_HEIGHTS,\n",
    "                        n_random_peaks=N_RANDOM_PEAKS,\n",
    "                        heights=HEIGHTS,\n",
    "                        var_h=VAR_H,\n",
    "                        t_start=T_START,\n",
    "                        t_stop=T_END,\n",
    "                        num_time_windows=T,\n",
    "                        save=True,\n",
    "                        filename=f\"sample_{IDS[i]}_{N_SEGMENTS}seg_sigma{SIGMA}_threshold{THRESHOLD}_{N_RANDOM_PEAKS}rpeak_T{T}.pkl\", )\n",
    "    )\n",
    "    print(f\"{50 * '='}\\n\")"
   ],
   "metadata": {
    "collapsed": false,
    "jupyter": {
     "is_executing": true
    }
   },
   "id": "f50e6a20be95fc78",
   "outputs": [],
   "execution_count": null
  },
  {
   "metadata": {
    "jupyter": {
     "is_executing": true
    }
   },
   "cell_type": "code",
   "source": [
    "if COMPUTE_ACTIVITY_FOR_RANDOM_MICROSCOPIC_EVENT: \n",
    "    n_events_around_micro_event_dict = n_events_around_microscopic_event(all_failure_times, \n",
    "                                                                         N_random_peaks=N_RANDOM_PEAKS, \n",
    "                                                                         t_start=T_START, \n",
    "                                                                         t_stop=T_END, \n",
    "                                                                         num_time_windows=T, \n",
    "                                                                         save=False, \n",
    "                                                                         filename=f\"micro_event_{N_SAMPLES}samples_{N_SEGMENTS}seg_sigma{SIGMA}_threshold{THRESHOLD}_T{T}.pkl\")"
   ],
   "id": "20822df518453c95",
   "outputs": [],
   "execution_count": null
  },
  {
   "metadata": {
    "jupyter": {
     "is_executing": true
    }
   },
   "cell_type": "code",
   "source": [
    "if COMPUTE_ACTIVITY_FOR_RANDOM_HEIGHTS:\n",
    "    random_time_windows = output_dicts[0]['random_time_windows']\n",
    "\n",
    "    all_random_n_before = np.concatenate([output_dicts[i]['random_n_before'] for i in range(N_SAMPLES)], axis=0)\n",
    "    mean_random_n_before = np.mean(all_random_n_before, axis=0)\n",
    "    std_random_n_before = np.std(all_random_n_before, axis=0, ddof=1)\n",
    "\n",
    "    all_random_n_after = np.concatenate([output_dicts[i]['random_n_after'] for i in range(N_SAMPLES)], axis=0)\n",
    "    mean_random_n_after = np.mean(all_random_n_after, axis=0)\n",
    "    std_random_n_after = np.std(all_random_n_after, axis=0, ddof=1)\n",
    "\n",
    "    all_random_n_peaks = np.sum([output_dicts[i]['n_random_peaks'] for i in range(N_SAMPLES)], axis=0)\n",
    "\n",
    "    random_activity_before = all_random_n_before / random_time_windows\n",
    "    mean_random_activity_before = np.mean(random_activity_before, axis=0)\n",
    "    std_random_activity_before = np.std(random_activity_before, axis=0, ddof=1)\n",
    "\n",
    "    random_activity_after = all_random_n_after / random_time_windows\n",
    "    mean_random_activity_after = np.mean(random_activity_after, axis=0)\n",
    "    std_random_activity_after = np.std(random_activity_after, axis=0, ddof=1)"
   ],
   "id": "67f3682d02bb1879",
   "outputs": [],
   "execution_count": null
  },
  {
   "metadata": {
    "jupyter": {
     "is_executing": true
    }
   },
   "cell_type": "code",
   "source": [
    "# Concatenate across samples for the same peak height\n",
    "if COMPUTE_ACTIVITY_FOR_GIVEN_HEIGHTS:\n",
    "    time_windows = output_dicts[0]['time_windows']\n",
    "\n",
    "    all_n_before = [output_dicts[i]['n_before'] for i in range(N_SAMPLES)]\n",
    "    all_n_before = concatenate_result(all_n_before, HEIGHTS, N_SAMPLES)\n",
    "    mean_n_before = {h: np.mean(all_n_before[h], axis=0) for h in HEIGHTS}\n",
    "    std_n_before = {h: np.std(all_n_before[h], axis=0, ddof=1) for h in HEIGHTS}\n",
    "\n",
    "    all_n_after = [output_dicts[i]['n_after'] for i in range(N_SAMPLES)]\n",
    "    all_n_after = concatenate_result(all_n_after, HEIGHTS, N_SAMPLES)\n",
    "    mean_n_after = {h: np.mean(all_n_after[h], axis=0) for h in HEIGHTS}\n",
    "    std_n_after = {h: np.std(all_n_after[h], axis=0, ddof=1) for h in HEIGHTS}\n",
    "\n",
    "    all_n_peaks = [output_dicts[i]['n_peaks'] for i in range(N_SAMPLES)]\n",
    "    all_n_peaks = {h: np.sum([all_n_peaks[i][h] for i in range(N_SAMPLES)]) for h in HEIGHTS}\n",
    "\n",
    "    activity_before = {h: all_n_before[h] / time_windows for h in HEIGHTS}\n",
    "    mean_activity_before = {h: np.mean(activity_before[h], axis=0) for h in HEIGHTS}\n",
    "    std_activity_before = {h: np.std(activity_before[h], axis=0, ddof=1) for h in HEIGHTS}\n",
    "\n",
    "    activity_after = {h: all_n_after[h] / time_windows for h in HEIGHTS}\n",
    "    mean_activity_after = {h: np.mean(activity_after[h], axis=0) for h in HEIGHTS}\n",
    "    std_activity_after = {h: np.std(activity_after[h], axis=0, ddof=1) for h in HEIGHTS}\n",
    "\n",
    "    normalized_mean_activity_before = {h: mean_activity_before[h] / mean_activity_before[h][0] for h in HEIGHTS}\n",
    "    normalized_mean_activity_after = {h: mean_activity_after[h] / mean_activity_after[h][0] for h in HEIGHTS}"
   ],
   "id": "69c458480cab9a4d",
   "outputs": [],
   "execution_count": null
  },
  {
   "metadata": {},
   "cell_type": "markdown",
   "source": "# Distribution of Peak Heights",
   "id": "8aa8c4590ec188f3"
  },
  {
   "metadata": {
    "jupyter": {
     "is_executing": true
    }
   },
   "cell_type": "code",
   "source": [
    "c_red = plt.get_cmap('Reds')\n",
    "c_blue = plt.get_cmap('Blues')\n",
    "c = ['blue', c_red(0.7)]\n",
    "fig, ax = plt.subplots(figsize=(8, 6))\n",
    "fit.plot_pdf(color=c[0], marker='o', linestyle='None', fillstyle='none', ax=ax, markersize=8, alpha=0.8)\n",
    "fit.power_law.plot_pdf(color=c[1], linestyle='-', ax=ax , label=rf'$\\tau_{{\\rm exp}}=-{fit.alpha:.2f}$', linewidth=3)\n",
    "ax.set_xlabel(r'$\\boldsymbol{h}$')\n",
    "ax.set_ylabel(r'$\\boldsymbol{P(h)}$')\n",
    "ax.legend()\n",
    "plt.grid(True, alpha=0.3, linestyle='--', which='both')\n",
    "plt.ylim(1e-13, 5e-6)\n",
    "plt.tight_layout()\n",
    "\n",
    "if SAVE_PLOT:\n",
    "    save_dir = os.path.join(FIGURE_DIR)\n",
    "    if not os.path.exists(save_dir):\n",
    "        os.makedirs(save_dir)\n",
    "    plt.savefig(os.path.join(save_dir, 'heights_pdf.pdf'), bbox_inches='tight')\n",
    "    with open(os.path.join(save_dir, 'heights_pdf.pkl'), 'wb') as f:\n",
    "        pickle.dump(fig, f)\n",
    "\n",
    "plt.show()"
   ],
   "id": "2457250fcc9cdcef",
   "outputs": [],
   "execution_count": null
  },
  {
   "metadata": {},
   "cell_type": "markdown",
   "source": "# Activity for Random Microscopic Event",
   "id": "988edbd2c00f5270"
  },
  {
   "metadata": {
    "jupyter": {
     "is_executing": true
    }
   },
   "cell_type": "code",
   "source": [
    "if COMPUTE_ACTIVITY_FOR_RANDOM_MICROSCOPIC_EVENT:\n",
    "    micro_time_windows = n_events_around_micro_event_dict['time_windows']\n",
    "    mean_n_micro_before = n_events_around_micro_event_dict['mean_n_before']\n",
    "    mean_n_micro_after = n_events_around_micro_event_dict['mean_n_after']\n",
    "    std_n_micro_before = n_events_around_micro_event_dict['std_n_before']\n",
    "    std_n_micro_after = n_events_around_micro_event_dict['std_n_after']\n",
    "\n",
    "    mean_a_micro_before = np.gradient(mean_n_micro_before, micro_time_windows)\n",
    "    mean_a_micro_after = np.gradient(mean_n_micro_after, micro_time_windows)\n",
    "    \n",
    "    median_n_micro_before = np.median(n_events_around_micro_event_dict['n_before'], axis=0)\n",
    "    median_n_micro_after = np.median(n_events_around_micro_event_dict['n_after'], axis=0)\n",
    "    \n",
    "    print(\"Number of sampled peaks: \", len(n_events_around_micro_event_dict['n_before']))\n",
    "    fig, axs = plt.subplots(2, 1, sharex=True, figsize=(12, 12))\n",
    "    axs[0].plot(micro_time_windows, mean_n_micro_before, marker='None', fillstyle='none', linestyle='-', color='b', label='Before', markersize=8)\n",
    "    axs[0].plot(micro_time_windows, mean_n_micro_after, marker='None', fillstyle='none', linestyle='-', color='r', label='After', markersize=8)\n",
    "    axs[0].plot(micro_time_windows, 1e6 * micro_time_windows, linestyle='--', color='black', label=r'$\\propto \\Delta t$')\n",
    "    axs[0].set_xscale('log')\n",
    "    axs[0].set_yscale('log')\n",
    "    axs[0].set_xlabel(r'$\\boldsymbol{\\Delta t/\\tau_\\alpha}$')\n",
    "    axs[0].set_ylabel(r'$\\boldsymbol{\\langle N \\rangle}$')\n",
    "    axs[0].set_xlim(min(micro_time_windows), max(micro_time_windows))\n",
    "    axs[0].set_ylim(min([median_n_micro_before.min(), median_n_micro_after.min()]),\n",
    "                    max([median_n_micro_before.max(), median_n_micro_after.max()]))\n",
    "    axs[0].legend(loc='best')\n",
    "    axs[0].grid(True, alpha=0.3, which='both', ls='--')\n",
    "\n",
    "    axs[1].plot(micro_time_windows, mean_a_micro_before,marker='None', fillstyle='none', linestyle='-', color='b', label='Before', markersize=8)\n",
    "    axs[1].plot(micro_time_windows, mean_a_micro_after, marker='None',   fillstyle='none', linestyle='-', color='r', label='After', markersize=8)\n",
    "    axs[1].set_xscale('log')\n",
    "    axs[1].set_yscale('log')\n",
    "    axs[1].set_xlabel(r'$\\boldsymbol{\\Delta t/\\tau_\\alpha}$')\n",
    "    axs[1].set_ylabel(r'$\\boldsymbol{\\langle A \\rangle}$')\n",
    "    axs[1].set_xlim(min(micro_time_windows), max(micro_time_windows))\n",
    "    axs[1].set_ylim(min([mean_a_micro_before.min(), mean_a_micro_after.min()]),\n",
    "                    max([mean_a_micro_before.max(), mean_a_micro_after.max()]))\n",
    "    axs[1].legend(loc='best')\n",
    "    axs[1].grid(True, alpha=0.3, which='both', ls='--')\n",
    "\n",
    "    plt.tight_layout()\n",
    "\n",
    "    if SAVE_PLOT:\n",
    "        save_dir = os.path.join(FIGURE_DIR)\n",
    "        if not os.path.exists(save_dir):\n",
    "            os.makedirs(save_dir)\n",
    "        plt.savefig(os.path.join(save_dir, 'activity_vs_time_random.pdf'), bbox_inches='tight')\n",
    "        with open(os.path.join(save_dir, 'activity_vs_time_random.pkl'), 'wb') as f:\n",
    "            pickle.dump(fig, f)\n",
    "\n",
    "    plt.show()"
   ],
   "id": "5ace31b1539c8bc7",
   "outputs": [],
   "execution_count": null
  },
  {
   "metadata": {},
   "cell_type": "markdown",
   "source": "# Mean Activity for Random Peak Heights",
   "id": "17fd4f846e9d9acf"
  },
  {
   "metadata": {
    "jupyter": {
     "is_executing": true
    }
   },
   "cell_type": "code",
   "source": [
    "if COMPUTE_ACTIVITY_FOR_RANDOM_HEIGHTS:\n",
    "    fig, axs = plt.subplots(2, 1, sharex=True, figsize=(12, 12))\n",
    "    axs[0].plot(random_time_windows, mean_random_n_before, marker='d', fillstyle='none', linestyle='-', color='b', label='Before', markersize=8)\n",
    "    axs[0].plot(random_time_windows, mean_random_n_after, marker='o', fillstyle='none', linestyle='-', color='r', label='After', markersize=8)\n",
    "    axs[0].plot(random_time_windows, 1e6 * random_time_windows, linestyle='--', color='black',\n",
    "                label=r'$\\propto \\Delta t$')\n",
    "    axs[0].set_xscale('log')\n",
    "    axs[0].set_yscale('log')\n",
    "    axs[0].set_xlabel(r'$\\boldsymbol{\\Delta t/\\tau_\\alpha}$')\n",
    "    axs[0].set_ylabel(r'$\\boldsymbol{\\langle N \\rangle}$')\n",
    "    axs[0].set_xlim(min(random_time_windows), max(random_time_windows))\n",
    "    axs[0].set_ylim(min([mean_random_n_before.min(), mean_random_n_after.min()]),\n",
    "                    max([mean_random_n_before.max(), mean_random_n_after.max()]))\n",
    "    axs[0].legend(loc='best')\n",
    "    axs[0].grid(True, alpha=0.3, which='both', ls='--')\n",
    "\n",
    "\n",
    "\n",
    "    axs[1].plot(random_time_windows, mean_random_activity_before,marker='d', fillstyle='none', linestyle='-', color='b', label='Before', markersize=8)\n",
    "    axs[1].plot(random_time_windows, mean_random_activity_after, marker='o',   fillstyle='none', linestyle='-', color='r', label='After', markersize=8)\n",
    "    axs[1].set_xscale('log')\n",
    "    axs[1].set_yscale('log')\n",
    "    axs[1].set_xlabel(r'$\\boldsymbol{\\Delta t/\\tau_\\alpha}$')\n",
    "    axs[1].set_ylabel(r'$\\boldsymbol{\\langle A \\rangle}$')\n",
    "    axs[1].set_xlim(min(random_time_windows), max(random_time_windows))\n",
    "    axs[1].set_ylim(min([mean_random_activity_before.min(), mean_random_activity_after.min()]),\n",
    "                    max([mean_random_activity_before.max(), mean_random_activity_after.max()]))\n",
    "    axs[1].legend(loc='best')\n",
    "    axs[1].grid(True, alpha=0.3, which='both', ls='--')\n",
    "\n",
    "    plt.tight_layout()\n",
    "    \n",
    "    if SAVE_PLOT:\n",
    "        save_dir = os.path.join(FIGURE_DIR)\n",
    "        if not os.path.exists(save_dir):\n",
    "            os.makedirs(save_dir)\n",
    "        plt.savefig(os.path.join(save_dir, 'activity_vs_time_random.pdf'), bbox_inches='tight')\n",
    "        with open(os.path.join(save_dir, 'activity_vs_time_random.pkl'), 'wb') as f:\n",
    "            pickle.dump(fig, f)\n",
    "    \n",
    "    plt.show()"
   ],
   "id": "205cab22fc193442",
   "outputs": [],
   "execution_count": null
  },
  {
   "metadata": {},
   "cell_type": "markdown",
   "source": "# Mean Activity for Given Peak Heights",
   "id": "75b5a14e0ff0caba"
  },
  {
   "metadata": {
    "jupyter": {
     "is_executing": true
    }
   },
   "cell_type": "code",
   "source": [
    "if COMPUTE_ACTIVITY_FOR_GIVEN_HEIGHTS:\n",
    "    cmap_before = plt.get_cmap('Reds')\n",
    "    colors_before = cmap_before(np.linspace(0.4, 0.9, N_H))\n",
    "    cmap_after = plt.get_cmap('Blues')\n",
    "    colors_after = cmap_after(np.linspace(0.4, 0.9, N_H))\n",
    "\n",
    "    fig, axs = plt.subplots(2, 1, figsize=(12, 12), sharex=True)\n",
    "    for i, (h, n_std) in enumerate(zip(HEIGHTS, N_STD)):\n",
    "        axs[0].plot(time_windows, mean_n_after[h], linestyle='-', markersize=8,\n",
    "                    marker=r'd', fillstyle='none', color=colors_after[i], label=rf'A: $h=\\bar h+{n_std:.0f}\\sigma_h$')\n",
    "        axs[0].plot(time_windows, mean_n_before[h], linestyle='-', markersize=8, fillstyle='none',\n",
    "                    marker='o', color=colors_before[i], label=rf'B: $h=\\bar h+{n_std:.0f}\\sigma_h$')\n",
    "        axs[1].plot(time_windows, mean_activity_after[h], linestyle='-', marker=r'd', fillstyle='none',\n",
    "                    color=colors_after[i], markersize=8)\n",
    "        axs[1].plot(time_windows, mean_activity_before[h], linestyle='-', marker='o', fillstyle='none', color=colors_before[i],\n",
    "                    markersize=8)\n",
    "\n",
    "    axs[0].set_xscale('log')\n",
    "    axs[0].set_yscale('log')\n",
    "    axs[0].set_xlabel(r'$\\boldsymbol{\\Delta t/\\tau_\\alpha}$')\n",
    "    axs[0].set_ylabel(r'$\\boldsymbol{\\langle N\\rangle_h}$')\n",
    "    axs[0].grid(True, alpha=0.3, which='both', ls='--')\n",
    "    axs[0].set_xlim(min(time_windows), max(time_windows))\n",
    "    axs[0].set_ylim(min([mean_n_before[h].min() for h in HEIGHTS] + [mean_n_after[h].min() for h in HEIGHTS]),\n",
    "                    max([mean_n_before[h].max() for h in HEIGHTS] + [mean_n_after[h].max() for h in HEIGHTS]))\n",
    "\n",
    "    axs[1].set_xscale('log')\n",
    "    axs[1].set_yscale('log')\n",
    "    axs[1].set_xlabel(r'$\\boldsymbol{\\Delta t/\\tau_\\alpha}$')\n",
    "    axs[1].set_ylabel(r'$\\boldsymbol{\\langle A\\rangle_h}$')\n",
    "    axs[1].grid(True, alpha=0.3, which='both', ls='--')\n",
    "    axs[1].set_xlim(min(time_windows), max(time_windows))\n",
    "    axs[1].set_ylim(\n",
    "        min([mean_activity_before[h].min() for h in HEIGHTS] + [mean_activity_after[h].min() for h in HEIGHTS]),\n",
    "        max([mean_activity_before[h].max() for h in HEIGHTS] + [mean_activity_after[h].max() for h in HEIGHTS]))\n",
    "\n",
    "    # Create horizontal colorbars\n",
    "    norm_before = mcolors.Normalize(vmin=min(N_STD), vmax=max(N_STD))\n",
    "    sm_before = cm.ScalarMappable(cmap=cm.colors.ListedColormap(cmap_before(np.linspace(0.3, 0.9, 256))), norm=norm_before)\n",
    "    sm_before.set_array([])\n",
    "    cbar_before = fig.colorbar(sm_before, ax=axs, orientation='horizontal', fraction=0.05, pad=0.04, aspect=50,\n",
    "                               location='top')\n",
    "\n",
    "    norm_after = mcolors.Normalize(vmin=min(N_STD), vmax=max(N_STD))\n",
    "    sm_after = cm.ScalarMappable(cmap=cm.colors.ListedColormap(cmap_after(np.linspace(0.3, 0.9, 256))), norm=norm_after)\n",
    "    sm_after.set_array([])\n",
    "    cbar_after = fig.colorbar(sm_after, ax=axs, orientation='horizontal', fraction=0.05, pad=0.05, aspect=50,\n",
    "                              location='top')\n",
    "\n",
    "    # Add text annotations\n",
    "    fig.text(0.088, 0.79, r'$n_A$', va='center', ha='center', rotation=0, fontsize=30, color=colors_after[-1])\n",
    "    fig.text(0.088, 0.86, r'$n_B$', va='center', ha='center', rotation=0, fontsize=30, color=colors_before[-1])\n",
    "    fig.text(0.5, 0.92, r'$h = \\bar{h} + n_{A,B}\\sigma_h$', va='center', ha='center', rotation=0, fontsize=30,\n",
    "             color='black')\n",
    "\n",
    "    if SAVE_PLOT:\n",
    "        save_dir = os.path.join(FIGURE_DIR)\n",
    "        if not os.path.exists(save_dir):\n",
    "            os.makedirs(save_dir)\n",
    "        plt.savefig(os.path.join(save_dir, 'activity_vs_time.pdf'), bbox_inches='tight')\n",
    "        with open(os.path.join(save_dir, 'activity_vs_time.pkl'), 'wb') as f:\n",
    "            pickle.dump(fig, f)\n",
    "    \n",
    "    plt.show()"
   ],
   "id": "a9280692c23d34f2",
   "outputs": [],
   "execution_count": null
  },
  {
   "metadata": {
    "jupyter": {
     "is_executing": true
    }
   },
   "cell_type": "code",
   "source": [
    "if COMPUTE_ACTIVITY_FOR_GIVEN_HEIGHTS:\n",
    "    cmap_before = plt.get_cmap('Reds')\n",
    "    colors_before = cmap_before(np.linspace(0.4, 0.95, N_H))\n",
    "    cmap_after = plt.get_cmap('Blues')\n",
    "    colors_after = cmap_after(np.linspace(0.4, 0.95, N_H))\n",
    "\n",
    "    fig, axs = plt.subplots(2, 1, figsize=(12, 12), sharex=True)\n",
    "    for i, (h, n_std) in enumerate(zip(HEIGHTS, N_STD)):\n",
    "        axs[0].plot(time_windows, mean_n_after[h], linestyle='-', \n",
    "                    markersize=8, marker=r'd', fillstyle='none', \n",
    "                    color=colors_after[i], label=rf'A: $h=\\bar h+{n_std:.0f}\\sigma_h$')\n",
    "        \n",
    "        axs[0].plot(time_windows, mean_n_before[h], linestyle='-', \n",
    "                    markersize=8, fillstyle='none', marker='o', \n",
    "                    color=colors_before[i], label=rf'B: $h=\\bar h+{n_std:.0f}\\sigma_h$')\n",
    "        \n",
    "        axs[1].plot(time_windows, normalized_mean_activity_after[h], linestyle='-', \n",
    "                    marker=r'd', fillstyle='none', markersize=8,\n",
    "                    color=colors_after[i])\n",
    "        axs[1].plot(time_windows, normalized_mean_activity_before[h], linestyle='-', marker='o', fillstyle='none', color=colors_before[i],\n",
    "                    markersize=8)\n",
    "\n",
    "    axs[0].set_xscale('log')\n",
    "    axs[0].set_yscale('log')\n",
    "    axs[0].set_xlabel(r'$\\boldsymbol{\\Delta t/\\tau_\\alpha}$')\n",
    "    axs[0].set_ylabel(r'$\\boldsymbol{\\langle N\\rangle_h}$')\n",
    "    axs[0].grid(True, alpha=0.3, which='both', ls='--')\n",
    "    axs[0].set_xlim(min(time_windows), max(time_windows))\n",
    "    axs[0].set_ylim(min([mean_n_before[h].min() for h in HEIGHTS] + [mean_n_after[h].min() for h in HEIGHTS]),\n",
    "                    max([mean_n_before[h].max() for h in HEIGHTS] + [mean_n_after[h].max() for h in HEIGHTS]))\n",
    "\n",
    "    axs[1].set_xscale('log')\n",
    "    axs[1].set_yscale('log')\n",
    "    axs[1].set_xlabel(r'$\\boldsymbol{\\Delta t/\\tau_\\alpha}$')\n",
    "    axs[1].set_ylabel(r'$\\boldsymbol{\\langle A\\rangle_h}$')\n",
    "    axs[1].grid(True, alpha=0.3, which='both', ls='--')\n",
    "    axs[1].set_xlim(min(time_windows), max(time_windows))\n",
    "    axs[1].set_ylim(\n",
    "        min([normalized_mean_activity_before[h].min() for h in HEIGHTS] + [normalized_mean_activity_after[h].min() for h\n",
    "                                                                           in HEIGHTS]),\n",
    "        max([normalized_mean_activity_before[h].max() for h in HEIGHTS] + [normalized_mean_activity_after[h].max() for h\n",
    "                                                                           in HEIGHTS]))\n",
    "    \n",
    "    # Create horizontal colorbars\n",
    "    norm_before = mcolors.Normalize(vmin=min(N_STD), vmax=max(N_STD))\n",
    "    sm_before = cm.ScalarMappable(cmap=cm.colors.ListedColormap(cmap_before(np.linspace(0.5, 0.99, 256))), norm=norm_before)\n",
    "    sm_before.set_array([])\n",
    "    cbar_before = fig.colorbar(sm_before, ax=axs, orientation='horizontal', fraction=0.05, pad=0.04, aspect=50,\n",
    "                               location='top')\n",
    "\n",
    "    norm_after = mcolors.Normalize(vmin=min(N_STD), vmax=max(N_STD))\n",
    "    sm_after = cm.ScalarMappable(cmap=cm.colors.ListedColormap(cmap_after(np.linspace(0.5, 0.99, 256))), norm=norm_after)\n",
    "    sm_after.set_array([])\n",
    "    cbar_after = fig.colorbar(sm_after, ax=axs, orientation='horizontal', fraction=0.05, pad=0.05, aspect=50,\n",
    "                              location='top')\n",
    "\n",
    "    # Add text annotations\n",
    "    fig.text(0.088, 0.79, r'$n_A$', va='center', ha='center', rotation=0, fontsize=30, color=colors_after[-1])\n",
    "    fig.text(0.088, 0.86, r'$n_B$', va='center', ha='center', rotation=0, fontsize=30, color=colors_before[-1])\n",
    "    fig.text(0.5, 0.92, r'$h = \\bar{h} + n_{A,B}\\sigma_h$', va='center', ha='center', rotation=0, fontsize=30,\n",
    "             color='black')\n",
    "    \n",
    "    if SAVE_PLOT:\n",
    "        save_dir = os.path.join(FIGURE_DIR)\n",
    "        if not os.path.exists(save_dir):\n",
    "            os.makedirs(save_dir)\n",
    "        plt.savefig(os.path.join(save_dir, 'norm_activity_vs_time.pdf'), bbox_inches='tight')\n",
    "        with open(os.path.join(save_dir, 'norm_activity_vs_time.pkl'), 'wb') as f:\n",
    "            pickle.dump(fig, f)\n",
    "    plt.show()"
   ],
   "id": "a94a6660a90c4d35",
   "outputs": [],
   "execution_count": null
  },
  {
   "metadata": {
    "jupyter": {
     "is_executing": true
    }
   },
   "cell_type": "code",
   "source": [
    "if COMPUTE_ACTIVITY_FOR_GIVEN_HEIGHTS:\n",
    "    cmap_before = plt.get_cmap('Reds')\n",
    "    colors_before = cmap_before(np.linspace(0.4, 0.95, N_H))\n",
    "    cmap_after = plt.get_cmap('Blues')\n",
    "    colors_after = cmap_after(np.linspace(0.4, 0.95, N_H))\n",
    "\n",
    "    fig, axs = plt.subplots(1, 2, figsize=(12, 12), sharex=True)\n",
    "    for i, (h, n_std) in enumerate(zip(HEIGHTS, N_STD)):\n",
    "        axs[0].plot(time_windows, mean_n_after[h], linestyle='-',\n",
    "                    markersize=8, marker=r'd', fillstyle='none',\n",
    "                    color=colors_after[i], label=rf'A: $h=\\bar h+{n_std:.0f}\\sigma_h$')\n",
    "\n",
    "        axs[0].plot(time_windows, mean_n_before[h], linestyle='-',\n",
    "                    markersize=8, fillstyle='none', marker='o',\n",
    "                    color=colors_before[i], label=rf'B: $h=\\bar h+{n_std:.0f}\\sigma_h$')\n",
    "\n",
    "        axs[1].plot(time_windows, normalized_mean_activity_after[h], linestyle='-',\n",
    "                    marker=r'd', fillstyle='none', markersize=8,\n",
    "                    color=colors_after[i])\n",
    "        axs[1].plot(time_windows, normalized_mean_activity_before[h], linestyle='-', marker='o', fillstyle='none', color=colors_before[i],\n",
    "                    markersize=8)\n",
    "\n",
    "    axs[0].set_xscale('log')\n",
    "    axs[0].set_yscale('log')\n",
    "    axs[0].set_xlabel(r'$\\boldsymbol{\\Delta t/\\tau_\\alpha}$')\n",
    "    axs[0].set_ylabel(r'$\\boldsymbol{\\langle N\\rangle_h}$')\n",
    "    axs[0].grid(True, alpha=0.3, which='both', ls='--')\n",
    "    axs[0].set_xlim(min(time_windows), max(time_windows))\n",
    "    axs[0].set_ylim(min([mean_n_before[h].min() for h in HEIGHTS] + [mean_n_after[h].min() for h in HEIGHTS]),\n",
    "                    max([mean_n_before[h].max() for h in HEIGHTS] + [mean_n_after[h].max() for h in HEIGHTS]))\n",
    "\n",
    "    axs[1].set_xscale('log')\n",
    "    axs[1].set_yscale('log')\n",
    "    axs[1].set_xlabel(r'$\\boldsymbol{\\Delta t/\\tau_\\alpha}$')\n",
    "    axs[1].set_ylabel(r'$\\boldsymbol{\\langle A\\rangle_h}$')\n",
    "    axs[1].grid(True, alpha=0.3, which='both', ls='--')\n",
    "    axs[1].set_xlim(min(time_windows), max(time_windows))\n",
    "    axs[1].set_ylim(\n",
    "        min([normalized_mean_activity_before[h].min() for h in HEIGHTS] + [normalized_mean_activity_after[h].min() for h\n",
    "                                                                           in HEIGHTS]),\n",
    "        max([normalized_mean_activity_before[h].max() for h in HEIGHTS] + [normalized_mean_activity_after[h].max() for h\n",
    "                                                                           in HEIGHTS]))\n",
    "    axs[1].yaxis.tick_right()\n",
    "    axs[1].yaxis.set_label_position(\"right\")\n",
    "\n",
    "    # Create horizontal colorbars\n",
    "    norm_before = mcolors.Normalize(vmin=min(N_STD), vmax=max(N_STD))\n",
    "    sm_before = cm.ScalarMappable(cmap=cm.colors.ListedColormap(cmap_before(np.linspace(0.5, 0.99, 256))), norm=norm_before)\n",
    "    sm_before.set_array([])\n",
    "    cbar_before = fig.colorbar(sm_before, ax=axs, orientation='horizontal', fraction=0.05, pad=0.04, aspect=50,\n",
    "                               location='top')\n",
    "\n",
    "    norm_after = mcolors.Normalize(vmin=min(N_STD), vmax=max(N_STD))\n",
    "    sm_after = cm.ScalarMappable(cmap=cm.colors.ListedColormap(cmap_after(np.linspace(0.5, 0.99, 256))), norm=norm_after)\n",
    "    sm_after.set_array([])\n",
    "    cbar_after = fig.colorbar(sm_after, ax=axs, orientation='horizontal', fraction=0.05, pad=0.05, aspect=50,\n",
    "                              location='top')\n",
    "\n",
    "    # Add text annotations\n",
    "    fig.text(0.088, 0.79, r'$n_A$', va='center', ha='center', rotation=0, fontsize=30, color=colors_after[-1])\n",
    "    fig.text(0.088, 0.86, r'$n_B$', va='center', ha='center', rotation=0, fontsize=30, color=colors_before[-1])\n",
    "    fig.text(0.5, 0.92, r'$h = \\bar{h} + n_{A,B}\\sigma_h$', va='center', ha='center', rotation=0, fontsize=30,\n",
    "             color='black')\n",
    "\n",
    "    if SAVE_PLOT:\n",
    "        save_dir = os.path.join(FIGURE_DIR)\n",
    "        if not os.path.exists(save_dir):\n",
    "            os.makedirs(save_dir)\n",
    "        plt.savefig(os.path.join(save_dir, 'norm_activity_vs_time2.pdf'), bbox_inches='tight')\n",
    "        with open(os.path.join(save_dir, 'norm_activity_vs_time2.pkl'), 'wb') as f:\n",
    "            pickle.dump(fig, f)\n",
    "\n",
    "    plt.show()"
   ],
   "id": "a69b1a9aaa6161f1",
   "outputs": [],
   "execution_count": null
  },
  {
   "metadata": {
    "jupyter": {
     "is_executing": true
    }
   },
   "cell_type": "code",
   "source": [
    "if COMPUTE_ACTIVITY_FOR_GIVEN_HEIGHTS:\n",
    "    cmap_before = plt.get_cmap('Reds')\n",
    "    colors_before = cmap_before(np.linspace(0.8, 0.95, N_H))\n",
    "    cmap_after = plt.get_cmap('Blues')\n",
    "    colors_after = cmap_after(np.linspace(0.8, 0.95, N_H))\n",
    "    \n",
    "    fig, axs = plt.subplots(2, N_H, figsize=(6*N_H, 12), sharex=True)\n",
    "    for i, (h, n_std) in enumerate(zip(HEIGHTS, N_STD)):\n",
    "        axs[0, i].plot(time_windows, mean_n_after[h], linestyle='-', markersize=8, fillstyle='none',\n",
    "                    marker=r'd', color=colors_after[i], label='After')\n",
    "        axs[0, i].plot(time_windows, mean_n_before[h], linestyle='-', markersize=8, fillstyle='none',\n",
    "                    marker='o', color=colors_before[i], label='Before')\n",
    "        axs[1, i].plot(time_windows, normalized_mean_activity_after[h], linestyle='-', marker=r'd', fillstyle='none',\n",
    "                    color=colors_after[i], markersize=8, label='After')\n",
    "        axs[1, i].plot(time_windows, normalized_mean_activity_before[h], linestyle='-', marker='o', color=colors_before[i],\n",
    "                    markersize=8, fillstyle='none', label='Before')\n",
    "\n",
    "        axs[0, i].set_xscale('log')\n",
    "        axs[0, i].set_yscale('log')\n",
    "        axs[0, i].set_title(rf'$h=\\bar h+{n_std:.0f}\\sigma_h$')\n",
    "        axs[0, i].grid(True, alpha=0.3, which='both', ls='--')\n",
    "        axs[0, i].legend(loc='upper left')\n",
    "        axs[0, i].set_xlim(min(time_windows), max(time_windows))\n",
    "        axs[0, i].set_ylim(min([mean_n_before[h].min() for h in HEIGHTS] + [mean_n_after[h].min() for h in HEIGHTS]),\n",
    "                        max([mean_n_before[h].max() for h in HEIGHTS] + [mean_n_after[h].max() for h in HEIGHTS]))\n",
    "        \n",
    "        axs[1, i].set_xscale('log')\n",
    "        axs[1, i].set_yscale('log')\n",
    "        axs[1, i].legend(loc='upper right')\n",
    "        axs[1, i].set_xlabel(r'$\\boldsymbol{\\Delta t/\\tau_\\alpha}$')\n",
    "        axs[1, i].grid(True, alpha=0.3, which='both', ls='--')\n",
    "        axs[1, i].set_xlim(min(time_windows), max(time_windows))\n",
    "        axs[1, i].set_ylim(min([normalized_mean_activity_before[h].min() for h in HEIGHTS] \n",
    "                               + [normalized_mean_activity_after[h].min() for h in HEIGHTS]), \n",
    "                           max([normalized_mean_activity_before[h].max() for h in HEIGHTS] \n",
    "                               + [normalized_mean_activity_after[h].max() for h in HEIGHTS]))\n",
    "        \n",
    "    axs[0, 0].set_ylabel(r'$\\boldsymbol{\\langle N\\rangle_h}$')\n",
    "    axs[1, 0].set_ylabel(r'$\\boldsymbol{\\langle A\\rangle_h}$')\n",
    "\n",
    "    plt.tight_layout()\n",
    "    \n",
    "    if SAVE_PLOT:\n",
    "        save_dir = os.path.join(FIGURE_DIR)\n",
    "        if not os.path.exists(save_dir):\n",
    "            os.makedirs(save_dir)\n",
    "        plt.savefig(os.path.join(save_dir, 'norm_activity_vs_time_all.pdf'), bbox_inches='tight')\n",
    "        with open(os.path.join(save_dir, 'norm_activity_vs_time_all.pkl'), 'wb') as f:\n",
    "            pickle.dump(fig, f)\n",
    "    \n",
    "    plt.show()"
   ],
   "id": "92c90c9e65a22665",
   "outputs": [],
   "execution_count": null
  },
  {
   "metadata": {
    "jupyter": {
     "is_executing": true
    }
   },
   "cell_type": "code",
   "source": "",
   "id": "7a511c19860a4787",
   "outputs": [],
   "execution_count": null
  }
 ],
 "metadata": {
  "kernelspec": {
   "display_name": "Python 3",
   "language": "python",
   "name": "python3"
  },
  "language_info": {
   "codemirror_mode": {
    "name": "ipython",
    "version": 2
   },
   "file_extension": ".py",
   "mimetype": "text/x-python",
   "name": "python",
   "nbconvert_exporter": "python",
   "pygments_lexer": "ipython2",
   "version": "2.7.6"
  }
 },
 "nbformat": 4,
 "nbformat_minor": 5
}
