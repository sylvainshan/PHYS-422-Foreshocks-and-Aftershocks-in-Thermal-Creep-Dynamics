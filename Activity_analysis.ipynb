{
 "cells": [
  {
   "cell_type": "code",
   "id": "initial_id",
   "metadata": {
    "collapsed": true,
    "ExecuteTime": {
     "end_time": "2024-06-04T21:45:41.807445Z",
     "start_time": "2024-06-04T21:45:40.658562Z"
    }
   },
   "source": [
    "%load_ext autoreload\n",
    "%autoreload 2\n",
    "from constants import *\n",
    "from plot_config import *\n",
    "from sample_analysis import *\n",
    "import matplotlib.pyplot as plt"
   ],
   "outputs": [
    {
     "name": "stdout",
     "output_type": "stream",
     "text": [
      "The autoreload extension is already loaded. To reload it, use:\n",
      "  %reload_ext autoreload\n"
     ]
    }
   ],
   "execution_count": 14
  },
  {
   "cell_type": "code",
   "source": [
    "# Failure times loading parameters\n",
    "N_SAMPLES = 5\n",
    "N_SEGMENTS = 2\n",
    "start_id = 81\n",
    "stop_id = start_id + N_SAMPLES\n",
    "IDS = np.arange(start_id, stop_id)\n",
    "FILE_NAMES = [f'id=00{str(id)}.h5' for id in IDS]"
   ],
   "metadata": {
    "collapsed": false,
    "ExecuteTime": {
     "end_time": "2024-06-04T21:45:41.847189Z",
     "start_time": "2024-06-04T21:45:41.809440Z"
    }
   },
   "id": "afeabf502ebafc16",
   "outputs": [],
   "execution_count": 15
  },
  {
   "cell_type": "code",
   "source": [
    "SIGMA = 5    # Sets the timescale of avalanches\n",
    "TAU = -1.27  # Exponent of the power-law distribution of avalanche sizes"
   ],
   "metadata": {
    "collapsed": false,
    "ExecuteTime": {
     "end_time": "2024-06-04T21:45:41.887599Z",
     "start_time": "2024-06-04T21:45:41.848187Z"
    }
   },
   "id": "110346922ae632b8",
   "outputs": [],
   "execution_count": 16
  },
  {
   "cell_type": "code",
   "source": [
    "COMPUTE_ACTIVITY_FOR_RANDOM_HEIGHTS = True\n",
    "COMPUTE_ACTIVITY_FOR_GIVEN_HEIGHTS = True\n",
    "\n",
    "THRESHOLD = 500\n",
    "\n",
    "# Number of peaks to consider when randomly selecting peaks\n",
    "RANDOM_SEED = 0\n",
    "N_RANDOM_PEAKS = 1000\n",
    "\n",
    "# Number of time windows to consider when counting events\n",
    "T = 30\n",
    "T_START = 1e-8\n",
    "T_END = 2\n",
    "\n",
    "# Number of peak heights to consider when filtering peaks\n",
    "N_H = 6\n",
    "START_STD_H = 4\n",
    "END_STD_H = 9\n",
    "VAR_H = 0.05"
   ],
   "metadata": {
    "collapsed": false,
    "ExecuteTime": {
     "end_time": "2024-06-04T21:45:41.929450Z",
     "start_time": "2024-06-04T21:45:41.888597Z"
    }
   },
   "id": "5ad5c148ba76ec31",
   "outputs": [],
   "execution_count": 17
  },
  {
   "cell_type": "code",
   "source": [
    "all_failure_times, _ = load_failure_data(filenames=FILE_NAMES,\n",
    "                                         directory=FAILURE_DATA_DIR,\n",
    "                                         loading_segments=N_SEGMENTS,\n",
    "                                         verbose=False)\n",
    "\n",
    "for failure_times in all_failure_times:\n",
    "    failure_times /= TAU_ALPHA"
   ],
   "metadata": {
    "collapsed": false,
    "ExecuteTime": {
     "end_time": "2024-06-04T21:45:46.811410Z",
     "start_time": "2024-06-04T21:45:41.930451Z"
    }
   },
   "id": "9db99ffe2a7cf795",
   "outputs": [
    {
     "name": "stderr",
     "output_type": "stream",
     "text": [
      "100%|██████████| 5/5 [00:04<00:00,  1.07it/s]\n"
     ]
    }
   ],
   "execution_count": 18
  },
  {
   "metadata": {
    "jupyter": {
     "is_executing": true
    },
    "ExecuteTime": {
     "start_time": "2024-06-04T21:45:46.811502Z"
    }
   },
   "cell_type": "code",
   "source": [
    "all_heights_stats = all_sample_heights_stats(all_failure_times=all_failure_times, \n",
    "                                             sigma=SIGMA,\n",
    "                                             threshold=THRESHOLD)\n",
    "MEAN_H = all_heights_stats['mean_all_h']\n",
    "STD_H = all_heights_stats['std_all_h']\n",
    "all_peak_heights = all_heights_stats['all_peak_h']\n",
    "\n",
    "print(f\"Number of peaks across {N_SAMPLES} samples: {len(all_peak_heights)}\")\n",
    "print(f\"Mean height: {MEAN_H}\")\n",
    "print(f\"Std height: {STD_H}\")\n",
    "\n",
    "N_STD = np.linspace(START_STD_H, END_STD_H, N_H)\n",
    "HEIGHTS = MEAN_H + N_STD * STD_H\n",
    "print(f\"Peak heights: {HEIGHTS}\")"
   ],
   "id": "78ca7f17c51b76d6",
   "outputs": [],
   "execution_count": null
  },
  {
   "cell_type": "code",
   "source": [
    "output_dicts = []\n",
    "for i, failure_times in enumerate(all_failure_times):\n",
    "    print(f\"SAMPLE {i+1}\")\n",
    "    output_dicts.append(\n",
    "        sample_analysis(times=failure_times, \n",
    "                        sigma=SIGMA,\n",
    "                        threshold=THRESHOLD,\n",
    "                        compute_activity_for_random_heights=COMPUTE_ACTIVITY_FOR_RANDOM_HEIGHTS,\n",
    "                        compute_activity_for_given_heights=COMPUTE_ACTIVITY_FOR_GIVEN_HEIGHTS,\n",
    "                        n_random_peaks=N_RANDOM_PEAKS,\n",
    "                        heights=HEIGHTS,\n",
    "                        var_h=VAR_H,\n",
    "                        t_start=T_START,\n",
    "                        t_stop=T_END,\n",
    "                        num_time_windows=T)\n",
    "    )\n",
    "    print(f\"{50*'='}\\n\")"
   ],
   "metadata": {
    "collapsed": false,
    "jupyter": {
     "is_executing": true
    }
   },
   "id": "f50e6a20be95fc78",
   "outputs": [],
   "execution_count": null
  },
  {
   "metadata": {
    "jupyter": {
     "is_executing": true
    }
   },
   "cell_type": "code",
   "source": [
    "if COMPUTE_ACTIVITY_FOR_RANDOM_HEIGHTS:\n",
    "    random_time_windows = output_dicts[0]['random_time_windows']\n",
    "    \n",
    "    all_random_n_before = np.concatenate([output_dicts[i]['random_n_before'] for i in range(N_SAMPLES)], axis=0)\n",
    "    mean_random_n_before = np.mean(all_random_n_before, axis=0)\n",
    "    std_random_n_before = np.std(all_random_n_before, axis=0, ddof=1)\n",
    "\n",
    "    all_random_n_after = np.concatenate([output_dicts[i]['random_n_after'] for i in range(N_SAMPLES)], axis=0)\n",
    "    mean_random_n_after = np.mean(all_random_n_after, axis=0)\n",
    "    std_random_n_after = np.std(all_random_n_after, axis=0, ddof=1)\n",
    "    \n",
    "    all_random_n_peaks = np.sum([output_dicts[i]['n_random_peaks'] for i in range(N_SAMPLES)], axis=0)\n",
    "    \n",
    "    random_activity_before = all_random_n_before / random_time_windows\n",
    "    mean_random_activity_before = np.mean(random_activity_before, axis=0)\n",
    "    std_random_activity_before = np.std(random_activity_before, axis=0, ddof=1)\n",
    "    \n",
    "    random_activity_after = all_random_n_after / random_time_windows\n",
    "    mean_random_activity_after = np.mean(random_activity_after, axis=0)\n",
    "    std_random_activity_after = np.std(random_activity_after, axis=0, ddof=1)"
   ],
   "id": "67f3682d02bb1879",
   "outputs": [],
   "execution_count": null
  },
  {
   "metadata": {
    "jupyter": {
     "is_executing": true
    }
   },
   "cell_type": "code",
   "source": [
    "# Concatenate across samples for the same peak height\n",
    "if COMPUTE_ACTIVITY_FOR_GIVEN_HEIGHTS:\n",
    "    time_windows = output_dicts[0]['time_windows']\n",
    "    \n",
    "    all_n_before = [output_dicts[i]['n_before'] for i in range(N_SAMPLES)]\n",
    "    all_n_before = concatenate_result(all_n_before, HEIGHTS, N_SAMPLES)\n",
    "    mean_n_before = {h: np.mean(all_n_before[h], axis=0) for h in HEIGHTS}\n",
    "    std_n_before = {h: np.std(all_n_before[h], axis=0, ddof=1) for h in HEIGHTS}\n",
    "    \n",
    "    all_n_after = [output_dicts[i]['n_after'] for i in range(N_SAMPLES)]\n",
    "    all_n_after = concatenate_result(all_n_after, HEIGHTS, N_SAMPLES)\n",
    "    mean_n_after = {h: np.mean(all_n_after[h], axis=0) for h in HEIGHTS}\n",
    "    std_n_after = {h: np.std(all_n_after[h], axis=0, ddof=1) for h in HEIGHTS}\n",
    "    \n",
    "    all_n_peaks = [output_dicts[i]['n_peaks'] for i in range(N_SAMPLES)]\n",
    "    all_n_peaks = {h: np.sum([all_n_peaks[i][h] for i in range(N_SAMPLES)]) for h in HEIGHTS}\n",
    "    \n",
    "    activity_before = {h: all_n_before[h] / time_windows for h in HEIGHTS}\n",
    "    mean_activity_before = {h: np.mean(activity_before[h], axis=0) for h in HEIGHTS}\n",
    "    std_activity_before = {h: np.std(activity_before[h], axis=0, ddof=1) for h in HEIGHTS}\n",
    "    \n",
    "    activity_after = {h: all_n_after[h] / time_windows for h in HEIGHTS}\n",
    "    mean_activity_after = {h: np.mean(activity_after[h], axis=0) for h in HEIGHTS}\n",
    "    std_activity_after = {h: np.std(activity_after[h], axis=0, ddof=1) for h in HEIGHTS}\n",
    "    \n",
    "    normalized_mean_activity_before = {h: mean_activity_before[h] / mean_activity_before[h][0] for h in HEIGHTS}\n",
    "    normalized_mean_activity_after = {h: mean_activity_after[h] / mean_activity_after[h][0] for h in HEIGHTS}"
   ],
   "id": "69c458480cab9a4d",
   "outputs": [],
   "execution_count": null
  },
  {
   "metadata": {},
   "cell_type": "markdown",
   "source": "# Distribution of Peak Heights",
   "id": "8aa8c4590ec188f3"
  },
  {
   "metadata": {
    "jupyter": {
     "is_executing": true
    }
   },
   "cell_type": "code",
   "source": [
    "fit = powerlaw.Fit(all_peak_heights, xmin=min(all_peak_heights), xmax=max(all_peak_heights), discrete=True)\n",
    "print(f\"Exponent: {fit.alpha}\")\n",
    "print(f\"Error: {fit.sigma}\")\n",
    "\n",
    "cmap = plt.get_cmap('jet')\n",
    "c = [cmap(i) for i in np.linspace(0.15, 0.9, 2)]\n",
    "\n",
    "fig, ax = plt.subplots(figsize=(8, 6))\n",
    "fit.plot_pdf(color=c[0], marker='o', linestyle='None', \n",
    "             ax=ax, label=rf'$\\tau_{{\\rm exp}}=-{fit.alpha:.3f}\\pm{fit.sigma:.3f}$',\n",
    "             markeredgecolor='black', alpha=0.5)\n",
    "fit.power_law.plot_pdf(color=c[1], linestyle='--', ax=ax)\n",
    "ax.set_xlabel(r'$\\boldsymbol{h}$')\n",
    "ax.set_ylabel(r'$\\boldsymbol{P(h)}$')\n",
    "ax.legend()\n",
    "plt.grid(True, alpha=0.4, linestyle='--', which='both')\n",
    "plt.ylim(1e-13, 5e-6)\n",
    "plt.show()"
   ],
   "id": "2457250fcc9cdcef",
   "outputs": [],
   "execution_count": null
  },
  {
   "metadata": {},
   "cell_type": "markdown",
   "source": "# Mean Activity for Random Peak Heights",
   "id": "17fd4f846e9d9acf"
  },
  {
   "metadata": {
    "jupyter": {
     "is_executing": true
    }
   },
   "cell_type": "code",
   "source": [
    "if COMPUTE_ACTIVITY_FOR_RANDOM_HEIGHTS:\n",
    "    fig, axs = plt.subplots(2, 1, sharex=True, figsize=(10, 10))\n",
    "    \n",
    "    axs[0].plot(random_time_windows, mean_random_activity_before, marker='o', linestyle='-', color='b', label='Before peak')\n",
    "    axs[0].plot(random_time_windows, mean_random_activity_after, marker='o', linestyle='-', color='r', label='After peak')\n",
    "    axs[0].set_xscale('log')\n",
    "    axs[0].set_yscale('log')\n",
    "    axs[0].set_ylabel(r'$\\boldsymbol{\\langle a \\rangle}$')\n",
    "    axs[0].legend(loc='best')\n",
    "    axs[0].grid(True, alpha=0.3, which='both', ls='--')\n",
    "    \n",
    "    axs[1].plot(random_time_windows, mean_random_n_before, marker='o', linestyle='-', color='b', label='Before peak')\n",
    "    axs[1].plot(random_time_windows, mean_random_n_after, marker='o', linestyle='-', color='r', label='After peak')\n",
    "    axs[1].plot(random_time_windows, 1e6*random_time_windows, linestyle='--', color='black', label=r'$\\propto \\Delta t$')\n",
    "    axs[1].set_xscale('log')\n",
    "    axs[1].set_yscale('log')\n",
    "    axs[1].set_xlabel(r'$\\boldsymbol{\\Delta t/\\tau_\\alpha}$')\n",
    "    axs[1].set_ylabel(r'$\\boldsymbol{\\langle n \\rangle}$')\n",
    "    axs[1].legend(loc='best')\n",
    "    axs[1].grid(True, alpha=0.3, which='both', ls='--')\n",
    "    \n",
    "    plt.tight_layout()\n",
    "    plt.show()"
   ],
   "id": "205cab22fc193442",
   "outputs": [],
   "execution_count": null
  },
  {
   "metadata": {},
   "cell_type": "markdown",
   "source": "# Mean Activity for Given Peak Heights",
   "id": "75b5a14e0ff0caba"
  },
  {
   "metadata": {
    "jupyter": {
     "is_executing": true
    }
   },
   "cell_type": "code",
   "source": [
    "if COMPUTE_ACTIVITY_FOR_GIVEN_HEIGHTS:\n",
    "    cmap_before = plt.get_cmap('Greens')\n",
    "    colors_before = cmap_before(np.linspace(0.5, 0.99, N_H))\n",
    "    cmap_after = plt.get_cmap('Blues')\n",
    "    colors_after = cmap_after(np.linspace(0.5, 0.99, N_H))\n",
    "    \n",
    "    fig, axs = plt.subplots(2, 1, figsize=(10,8), sharex=True)\n",
    "    for i, (h, n_std) in enumerate(zip(HEIGHTS, N_STD)):\n",
    "        axs[0].plot(time_windows, mean_n_after[h], linestyle='-', markersize=8,\n",
    "                    marker=r'$S$', color=colors_after[i], label=rf'A: $h=\\bar h+{n_std:.0f}\\sigma_h$')\n",
    "        axs[0].plot(time_windows, mean_n_before[h], linestyle='-', markersize=6,\n",
    "                    marker='o', color=colors_before[i], label=rf'B: $h=\\bar h+{n_std:.0f}\\sigma_h$')\n",
    "        axs[1].plot(time_windows, mean_activity_after[h], linestyle='-', marker=r'$S$', color=colors_after[i], markersize=8)\n",
    "        axs[1].plot(time_windows, mean_activity_before[h], linestyle='-', marker='o', color=colors_before[i], markersize=6)\n",
    "    \n",
    "    axs[0].set_xscale('log')\n",
    "    axs[0].set_yscale('log')\n",
    "    axs[0].set_ylabel(r'$N$')\n",
    "    axs[0].grid(True, alpha=0.3, which='both', ls='--')\n",
    "    axs[0].set_xlim(min(time_windows), max(time_windows))\n",
    "    axs[0].set_ylim(min([mean_n_before[h].min() for h in HEIGHTS] + [mean_n_after[h].min() for h in HEIGHTS]),\n",
    "                    max([mean_n_before[h].max() for h in HEIGHTS] + [mean_n_after[h].max() for h in HEIGHTS]))\n",
    "    \n",
    "    axs[1].set_xscale('log')\n",
    "    axs[1].set_yscale('log')\n",
    "    axs[1].set_xlabel(r'$\\Delta t/\\tau_\\alpha$')\n",
    "    axs[1].set_ylabel(r'$A$')\n",
    "    axs[1].grid(True, alpha=0.3, which='both', ls='--')\n",
    "    axs[1].set_xlim(min(time_windows), max(time_windows))\n",
    "    axs[1].set_ylim(min([mean_activity_before[h].min() for h in HEIGHTS] + [mean_activity_after[h].min() for h in HEIGHTS]),\n",
    "                    max([mean_activity_before[h].max() for h in HEIGHTS] + [mean_activity_after[h].max() for h in HEIGHTS]))\n",
    "\n",
    "    lines_labels = [axs[0].get_legend_handles_labels()]\n",
    "    lines, labels = [sum(lol, []) for lol in zip(*lines_labels)]\n",
    "    fig.legend(lines, labels, loc='center left', bbox_to_anchor=(1, 0.5), ncol=1)\n",
    "    \n",
    "    plt.tight_layout()\n",
    "    plt.show()"
   ],
   "id": "eb274403fc50f562",
   "outputs": [],
   "execution_count": null
  },
  {
   "metadata": {
    "jupyter": {
     "is_executing": true
    }
   },
   "cell_type": "code",
   "source": [
    "if COMPUTE_ACTIVITY_FOR_GIVEN_HEIGHTS:\n",
    "    cmap_before = plt.get_cmap('Greens')\n",
    "    colors_before = cmap_before(np.linspace(0.5, 0.99, N_H))\n",
    "    cmap_after = plt.get_cmap('Blues')\n",
    "    colors_after = cmap_after(np.linspace(0.5, 0.99, N_H))\n",
    "\n",
    "    fig, axs = plt.subplots(2, 1, figsize=(10,8), sharex=True)\n",
    "    for i, (h, n_std) in enumerate(zip(HEIGHTS, N_STD)):\n",
    "        axs[0].plot(time_windows, mean_n_after[h], linestyle='-', markersize=8,\n",
    "                    marker=r'$S$', color=colors_after[i], label=rf'A: $h=\\bar h+{n_std:.0f}\\sigma_h$')\n",
    "        axs[0].plot(time_windows, mean_n_before[h], linestyle='-', markersize=6,\n",
    "                    marker='o', color=colors_before[i], label=rf'B: $h=\\bar h+{n_std:.0f}\\sigma_h$')\n",
    "        axs[1].plot(time_windows, normalized_mean_activity_after[h], linestyle='-', marker=r'$S$', color=colors_after[i], markersize=8)\n",
    "        axs[1].plot(time_windows, normalized_mean_activity_before[h], linestyle='-', marker='o', color=colors_before[i], markersize=6)\n",
    "\n",
    "    axs[0].set_xscale('log')\n",
    "    axs[0].set_yscale('log')\n",
    "    axs[0].set_ylabel(r'$N$')\n",
    "    axs[0].grid(True, alpha=0.3, which='both', ls='--')\n",
    "    axs[0].set_xlim(min(time_windows), max(time_windows))\n",
    "    axs[0].set_ylim(min([mean_n_before[h].min() for h in HEIGHTS] + [mean_n_after[h].min() for h in HEIGHTS]),\n",
    "                    max([mean_n_before[h].max() for h in HEIGHTS] + [mean_n_after[h].max() for h in HEIGHTS]))\n",
    "\n",
    "    axs[1].set_xscale('log')\n",
    "    axs[1].set_yscale('log')\n",
    "    axs[1].set_xlabel(r'$\\Delta t/\\tau_\\alpha$')\n",
    "    axs[1].set_ylabel(r'$A$')\n",
    "    axs[1].grid(True, alpha=0.3, which='both', ls='--')\n",
    "    axs[1].set_xlim(min(time_windows), max(time_windows))\n",
    "    axs[1].set_ylim(min([normalized_mean_activity_before[h].min() for h in HEIGHTS] + [normalized_mean_activity_after[h].min() for h in HEIGHTS]),\n",
    "                    max([normalized_mean_activity_before[h].max() for h in HEIGHTS] + [normalized_mean_activity_after[h].max() for h in HEIGHTS]))\n",
    "\n",
    "    lines_labels = [axs[0].get_legend_handles_labels()]\n",
    "    lines, labels = [sum(lol, []) for lol in zip(*lines_labels)]\n",
    "    fig.legend(lines, labels, loc='center left', bbox_to_anchor=(1, 0.5), ncol=1)\n",
    "\n",
    "    plt.tight_layout()\n",
    "    plt.show()"
   ],
   "id": "2696e4d4922324f9",
   "outputs": [],
   "execution_count": null
  },
  {
   "metadata": {
    "jupyter": {
     "is_executing": true
    }
   },
   "cell_type": "code",
   "source": "",
   "id": "a94a6660a90c4d35",
   "outputs": [],
   "execution_count": null
  }
 ],
 "metadata": {
  "kernelspec": {
   "display_name": "Python 3",
   "language": "python",
   "name": "python3"
  },
  "language_info": {
   "codemirror_mode": {
    "name": "ipython",
    "version": 2
   },
   "file_extension": ".py",
   "mimetype": "text/x-python",
   "name": "python",
   "nbconvert_exporter": "python",
   "pygments_lexer": "ipython2",
   "version": "2.7.6"
  }
 },
 "nbformat": 4,
 "nbformat_minor": 5
}
