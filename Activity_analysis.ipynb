{
 "cells": [
  {
   "cell_type": "code",
   "id": "initial_id",
   "metadata": {
    "collapsed": true,
    "ExecuteTime": {
     "end_time": "2024-06-05T11:16:02.511408Z",
     "start_time": "2024-06-05T11:16:00.532900Z"
    }
   },
   "source": [
    "%load_ext autoreload\n",
    "%autoreload 2\n",
    "from constants import *\n",
    "from plot_config import *\n",
    "from sample_analysis import *\n",
    "import matplotlib.pyplot as plt"
   ],
   "outputs": [],
   "execution_count": 1
  },
  {
   "cell_type": "code",
   "source": [
    "# Failure times loading parameters\n",
    "N_SAMPLES = 40\n",
    "N_SEGMENTS = 6\n",
    "start_id = 60\n",
    "stop_id = start_id + N_SAMPLES\n",
    "IDS = np.arange(start_id, stop_id)\n",
    "FILE_NAMES = [f'id=00{str(id)}.h5' for id in IDS]"
   ],
   "metadata": {
    "collapsed": false,
    "ExecuteTime": {
     "end_time": "2024-06-05T11:16:02.557791Z",
     "start_time": "2024-06-05T11:16:02.513400Z"
    }
   },
   "id": "afeabf502ebafc16",
   "outputs": [],
   "execution_count": 2
  },
  {
   "cell_type": "code",
   "source": [
    "SIGMA = 3.5    # Sets the timescale of avalanches\n",
    "TAU = 1.27  # Exponent of the power-law distribution of avalanche sizes"
   ],
   "metadata": {
    "collapsed": false,
    "ExecuteTime": {
     "end_time": "2024-06-05T11:16:04.005637Z",
     "start_time": "2024-06-05T11:16:03.340288Z"
    }
   },
   "id": "110346922ae632b8",
   "outputs": [],
   "execution_count": 3
  },
  {
   "cell_type": "code",
   "source": [
    "COMPUTE_ACTIVITY_FOR_RANDOM_HEIGHTS = True\n",
    "COMPUTE_ACTIVITY_FOR_GIVEN_HEIGHTS = True\n",
    "\n",
    "THRESHOLD = 1\n",
    "\n",
    "# Number of peaks to consider when randomly selecting peaks\n",
    "RANDOM_SEED = 0\n",
    "N_RANDOM_PEAKS = 1500\n",
    "\n",
    "# Number of time windows to consider when counting events\n",
    "T = 30\n",
    "T_START = 1e-8\n",
    "T_END = 2\n",
    "\n",
    "# Number of peak heights to consider when filtering peaks\n",
    "N_H = 6\n",
    "START_STD_H = 4\n",
    "END_STD_H = 9\n",
    "VAR_H = 0.05"
   ],
   "metadata": {
    "collapsed": false,
    "ExecuteTime": {
     "end_time": "2024-06-05T11:16:19.809839Z",
     "start_time": "2024-06-05T11:16:19.767098Z"
    }
   },
   "id": "5ad5c148ba76ec31",
   "outputs": [],
   "execution_count": 4
  },
  {
   "cell_type": "code",
   "source": [
    "all_failure_times, _ = load_failure_data(filenames=FILE_NAMES,\n",
    "                                         directory=FAILURE_DATA_DIR,\n",
    "                                         loading_segments=N_SEGMENTS,\n",
    "                                         verbose=False)\n",
    "\n",
    "for failure_times in all_failure_times:\n",
    "    failure_times /= TAU_ALPHA"
   ],
   "metadata": {
    "collapsed": false,
    "ExecuteTime": {
     "end_time": "2024-06-05T11:19:54.518909Z",
     "start_time": "2024-06-05T11:16:20.620830Z"
    }
   },
   "id": "9db99ffe2a7cf795",
   "outputs": [
    {
     "name": "stderr",
     "output_type": "stream",
     "text": [
      "100%|██████████| 40/40 [03:27<00:00,  5.19s/it]\n"
     ]
    }
   ],
   "execution_count": 5
  },
  {
   "metadata": {
    "ExecuteTime": {
     "end_time": "2024-06-05T11:22:49.258079Z",
     "start_time": "2024-06-05T11:19:54.522433Z"
    }
   },
   "cell_type": "code",
   "source": [
    "all_heights_stats = all_sample_heights_stats(all_failure_times=all_failure_times, \n",
    "                                             sigma=SIGMA,\n",
    "                                             threshold=THRESHOLD, \n",
    "                                             save=True,\n",
    "                                             filename=f\"heights_{start_id}-{stop_id-1}_{N_SEGMENTS}seg_sigma{SIGMA}_threshold{THRESHOLD}.pkl\")\n",
    "                                             \n",
    "MEAN_H = all_heights_stats['mean_all_h']\n",
    "STD_H = all_heights_stats['std_all_h']\n",
    "all_peak_heights = all_heights_stats['all_peak_h']\n",
    "\n",
    "print(f\"Number of peaks across {N_SAMPLES} samples: {len(all_peak_heights)}\")\n",
    "print(f\"Mean height: {MEAN_H}\")\n",
    "print(f\"Std height: {STD_H}\")\n",
    "\n",
    "N_STD = np.linspace(START_STD_H, END_STD_H, N_H)\n",
    "HEIGHTS = MEAN_H + N_STD * STD_H\n",
    "print(f\"Peak heights: {HEIGHTS}\")"
   ],
   "id": "78ca7f17c51b76d6",
   "outputs": [
    {
     "name": "stderr",
     "output_type": "stream",
     "text": [
      "Computing heights: 100%|██████████| 40/40 [02:42<00:00,  4.05s/it]\n"
     ]
    },
    {
     "name": "stdout",
     "output_type": "stream",
     "text": [
      "Number of peaks across 40 samples: 8672652\n",
      "Mean height: 16960262.565677613\n",
      "Std height: 57276770.020237066\n",
      "Peak heights: [2.46067343e+08 3.03344113e+08 3.60620883e+08 4.17897653e+08\n",
      " 4.75174423e+08 5.32451193e+08]\n"
     ]
    }
   ],
   "execution_count": 6
  },
  {
   "cell_type": "code",
   "source": [
    "output_dicts = []\n",
    "for i, failure_times in enumerate(all_failure_times):\n",
    "    print(f\"SAMPLE {i+1}\")\n",
    "    output_dicts.append(\n",
    "        sample_analysis(times=failure_times, \n",
    "                        sigma=SIGMA,\n",
    "                        threshold=THRESHOLD,\n",
    "                        compute_activity_for_random_heights=COMPUTE_ACTIVITY_FOR_RANDOM_HEIGHTS,\n",
    "                        compute_activity_for_given_heights=COMPUTE_ACTIVITY_FOR_GIVEN_HEIGHTS,\n",
    "                        n_random_peaks=N_RANDOM_PEAKS,\n",
    "                        heights=HEIGHTS,\n",
    "                        var_h=VAR_H,\n",
    "                        t_start=T_START,\n",
    "                        t_stop=T_END,\n",
    "                        num_time_windows=T, \n",
    "                        save=True,\n",
    "                        filename=f\"sample_{IDS[i]}_{N_SEGMENTS}seg_sigma{SIGMA}_threshold{THRESHOLD}.pkl\",)\n",
    "    )\n",
    "    print(f\"{50*'='}\\n\")"
   ],
   "metadata": {
    "collapsed": false,
    "jupyter": {
     "is_executing": true
    },
    "ExecuteTime": {
     "start_time": "2024-06-05T11:22:49.262066Z"
    }
   },
   "id": "f50e6a20be95fc78",
   "outputs": [
    {
     "name": "stdout",
     "output_type": "stream",
     "text": [
      "SAMPLE 1\n",
      "Computing activity for random heights\n",
      "- Number of random peaks =  1230\n",
      "Computing activity for given heights\n",
      "- Number of peaks before =  {246067342.64662588: 417, 303344112.66686296: 306, 360620882.68710005: 265, 417897652.707337: 198, 475174422.7275741: 133, 532451192.7478112: 134}\n",
      "- Number of peaks after =  {246067342.64662588: 417, 303344112.66686296: 306, 360620882.68710005: 265, 417897652.707337: 198, 475174422.7275741: 133, 532451192.7478112: 134}\n"
     ]
    },
    {
     "name": "stderr",
     "output_type": "stream",
     "text": [
      "Computing events before peaks: 100%|██████████| 6/6 [01:04<00:00, 10.70s/it]\n",
      "Computing events after peaks: 100%|██████████| 6/6 [01:02<00:00, 10.45s/it]\n"
     ]
    },
    {
     "name": "stdout",
     "output_type": "stream",
     "text": [
      "==================================================\n",
      "\n",
      "SAMPLE 2\n",
      "Computing activity for random heights\n",
      "- Number of random peaks =  1247\n",
      "Computing activity for given heights\n",
      "- Number of peaks before =  {246067342.64662588: 373, 303344112.66686296: 227, 360620882.68710005: 186, 417897652.707337: 141, 475174422.7275741: 125, 532451192.7478112: 93}\n",
      "- Number of peaks after =  {246067342.64662588: 373, 303344112.66686296: 227, 360620882.68710005: 186, 417897652.707337: 141, 475174422.7275741: 125, 532451192.7478112: 93}\n"
     ]
    },
    {
     "name": "stderr",
     "output_type": "stream",
     "text": [
      "Computing events before peaks: 100%|██████████| 6/6 [00:51<00:00,  8.53s/it]\n",
      "Computing events after peaks: 100%|██████████| 6/6 [00:48<00:00,  8.16s/it]\n"
     ]
    },
    {
     "name": "stdout",
     "output_type": "stream",
     "text": [
      "==================================================\n",
      "\n",
      "SAMPLE 3\n",
      "Computing activity for random heights\n",
      "- Number of random peaks =  1257\n",
      "Computing activity for given heights\n",
      "- Number of peaks before =  {246067342.64662588: 368, 303344112.66686296: 260, 360620882.68710005: 237, 417897652.707337: 188, 475174422.7275741: 157, 532451192.7478112: 139}\n",
      "- Number of peaks after =  {246067342.64662588: 368, 303344112.66686296: 260, 360620882.68710005: 237, 417897652.707337: 188, 475174422.7275741: 157, 532451192.7478112: 139}\n"
     ]
    },
    {
     "name": "stderr",
     "output_type": "stream",
     "text": [
      "Computing events before peaks: 100%|██████████| 6/6 [00:59<00:00,  9.91s/it]\n",
      "Computing events after peaks: 100%|██████████| 6/6 [00:59<00:00,  9.86s/it]\n"
     ]
    },
    {
     "name": "stdout",
     "output_type": "stream",
     "text": [
      "==================================================\n",
      "\n",
      "SAMPLE 4\n",
      "Computing activity for random heights\n",
      "- Number of random peaks =  1236\n",
      "Computing activity for given heights\n",
      "- Number of peaks before =  {246067342.64662588: 332, 303344112.66686296: 256, 360620882.68710005: 200, 417897652.707337: 180, 475174422.7275741: 128, 532451192.7478112: 106}\n",
      "- Number of peaks after =  {246067342.64662588: 332, 303344112.66686296: 256, 360620882.68710005: 200, 417897652.707337: 180, 475174422.7275741: 128, 532451192.7478112: 106}\n"
     ]
    },
    {
     "name": "stderr",
     "output_type": "stream",
     "text": [
      "Computing events before peaks: 100%|██████████| 6/6 [00:54<00:00,  9.10s/it]\n",
      "Computing events after peaks: 100%|██████████| 6/6 [00:53<00:00,  8.94s/it]\n"
     ]
    },
    {
     "name": "stdout",
     "output_type": "stream",
     "text": [
      "==================================================\n",
      "\n",
      "SAMPLE 5\n",
      "Computing activity for random heights\n",
      "- Number of random peaks =  1311\n",
      "Computing activity for given heights\n",
      "- Number of peaks before =  {246067342.64662588: 326, 303344112.66686296: 235, 360620882.68710005: 175, 417897652.707337: 138, 475174422.7275741: 117, 532451192.7478112: 86}\n",
      "- Number of peaks after =  {246067342.64662588: 326, 303344112.66686296: 235, 360620882.68710005: 175, 417897652.707337: 138, 475174422.7275741: 117, 532451192.7478112: 86}\n"
     ]
    },
    {
     "name": "stderr",
     "output_type": "stream",
     "text": [
      "Computing events before peaks: 100%|██████████| 6/6 [00:48<00:00,  8.02s/it]\n",
      "Computing events after peaks: 100%|██████████| 6/6 [00:46<00:00,  7.83s/it]\n"
     ]
    },
    {
     "name": "stdout",
     "output_type": "stream",
     "text": [
      "==================================================\n",
      "\n",
      "SAMPLE 6\n",
      "Computing activity for random heights\n",
      "- Number of random peaks =  1333\n",
      "Computing activity for given heights\n",
      "- Number of peaks before =  {246067342.64662588: 411, 303344112.66686296: 289, 360620882.68710005: 213, 417897652.707337: 165, 475174422.7275741: 143, 532451192.7478112: 113}\n",
      "- Number of peaks after =  {246067342.64662588: 411, 303344112.66686296: 289, 360620882.68710005: 213, 417897652.707337: 165, 475174422.7275741: 143, 532451192.7478112: 113}\n"
     ]
    },
    {
     "name": "stderr",
     "output_type": "stream",
     "text": [
      "Computing events before peaks: 100%|██████████| 6/6 [00:59<00:00,  9.98s/it]\n",
      "Computing events after peaks: 100%|██████████| 6/6 [00:57<00:00,  9.58s/it]\n"
     ]
    },
    {
     "name": "stdout",
     "output_type": "stream",
     "text": [
      "==================================================\n",
      "\n",
      "SAMPLE 7\n",
      "Computing activity for random heights\n",
      "- Number of random peaks =  1272\n",
      "Computing activity for given heights\n",
      "- Number of peaks before =  {246067342.64662588: 340, 303344112.66686296: 282, 360620882.68710005: 208, 417897652.707337: 161, 475174422.7275741: 124, 532451192.7478112: 112}\n",
      "- Number of peaks after =  {246067342.64662588: 340, 303344112.66686296: 282, 360620882.68710005: 208, 417897652.707337: 161, 475174422.7275741: 124, 532451192.7478112: 112}\n"
     ]
    },
    {
     "name": "stderr",
     "output_type": "stream",
     "text": [
      "Computing events before peaks: 100%|██████████| 6/6 [00:55<00:00,  9.26s/it]\n",
      "Computing events after peaks: 100%|██████████| 6/6 [00:57<00:00,  9.58s/it]\n"
     ]
    },
    {
     "name": "stdout",
     "output_type": "stream",
     "text": [
      "==================================================\n",
      "\n",
      "SAMPLE 8\n",
      "Computing activity for random heights\n",
      "- Number of random peaks =  1347\n",
      "Computing activity for given heights\n",
      "- Number of peaks before =  {246067342.64662588: 352, 303344112.66686296: 258, 360620882.68710005: 204, 417897652.707337: 135, 475174422.7275741: 120, 532451192.7478112: 74}\n",
      "- Number of peaks after =  {246067342.64662588: 352, 303344112.66686296: 258, 360620882.68710005: 204, 417897652.707337: 135, 475174422.7275741: 120, 532451192.7478112: 74}\n"
     ]
    },
    {
     "name": "stderr",
     "output_type": "stream",
     "text": [
      "Computing events before peaks: 100%|██████████| 6/6 [00:51<00:00,  8.52s/it]\n",
      "Computing events after peaks: 100%|██████████| 6/6 [00:50<00:00,  8.37s/it]\n"
     ]
    },
    {
     "name": "stdout",
     "output_type": "stream",
     "text": [
      "==================================================\n",
      "\n",
      "SAMPLE 9\n",
      "Computing activity for random heights\n",
      "- Number of random peaks =  1323\n",
      "Computing activity for given heights\n",
      "- Number of peaks before =  {246067342.64662588: 325, 303344112.66686296: 250, 360620882.68710005: 211, 417897652.707337: 148, 475174422.7275741: 126, 532451192.7478112: 110}\n",
      "- Number of peaks after =  {246067342.64662588: 325, 303344112.66686296: 250, 360620882.68710005: 211, 417897652.707337: 148, 475174422.7275741: 126, 532451192.7478112: 110}\n"
     ]
    },
    {
     "name": "stderr",
     "output_type": "stream",
     "text": [
      "Computing events before peaks: 100%|██████████| 6/6 [00:53<00:00,  8.85s/it]\n",
      "Computing events after peaks: 100%|██████████| 6/6 [00:51<00:00,  8.60s/it]\n"
     ]
    },
    {
     "name": "stdout",
     "output_type": "stream",
     "text": [
      "==================================================\n",
      "\n",
      "SAMPLE 10\n",
      "Computing activity for random heights\n",
      "- Number of random peaks =  1255\n",
      "Computing activity for given heights\n",
      "- Number of peaks before =  {246067342.64662588: 329, 303344112.66686296: 242, 360620882.68710005: 184, 417897652.707337: 144, 475174422.7275741: 134, 532451192.7478112: 76}\n",
      "- Number of peaks after =  {246067342.64662588: 329, 303344112.66686296: 242, 360620882.68710005: 184, 417897652.707337: 144, 475174422.7275741: 134, 532451192.7478112: 76}\n"
     ]
    },
    {
     "name": "stderr",
     "output_type": "stream",
     "text": [
      "Computing events before peaks: 100%|██████████| 6/6 [00:49<00:00,  8.20s/it]\n",
      "Computing events after peaks: 100%|██████████| 6/6 [00:49<00:00,  8.20s/it]\n"
     ]
    },
    {
     "name": "stdout",
     "output_type": "stream",
     "text": [
      "==================================================\n",
      "\n",
      "SAMPLE 11\n",
      "Computing activity for random heights\n",
      "- Number of random peaks =  1324\n",
      "Computing activity for given heights\n",
      "- Number of peaks before =  {246067342.64662588: 351, 303344112.66686296: 202, 360620882.68710005: 206, 417897652.707337: 152, 475174422.7275741: 105, 532451192.7478112: 99}\n",
      "- Number of peaks after =  {246067342.64662588: 351, 303344112.66686296: 202, 360620882.68710005: 206, 417897652.707337: 152, 475174422.7275741: 105, 532451192.7478112: 99}\n"
     ]
    },
    {
     "name": "stderr",
     "output_type": "stream",
     "text": [
      "Computing events before peaks: 100%|██████████| 6/6 [00:50<00:00,  8.39s/it]\n",
      "Computing events after peaks: 100%|██████████| 6/6 [00:49<00:00,  8.21s/it]\n"
     ]
    },
    {
     "name": "stdout",
     "output_type": "stream",
     "text": [
      "==================================================\n",
      "\n",
      "SAMPLE 12\n",
      "Computing activity for random heights\n",
      "- Number of random peaks =  1288\n",
      "Computing activity for given heights\n",
      "- Number of peaks before =  {246067342.64662588: 352, 303344112.66686296: 316, 360620882.68710005: 251, 417897652.707337: 188, 475174422.7275741: 127, 532451192.7478112: 107}\n",
      "- Number of peaks after =  {246067342.64662588: 352, 303344112.66686296: 316, 360620882.68710005: 251, 417897652.707337: 188, 475174422.7275741: 127, 532451192.7478112: 107}\n"
     ]
    },
    {
     "name": "stderr",
     "output_type": "stream",
     "text": [
      "Computing events before peaks: 100%|██████████| 6/6 [00:59<00:00,  9.96s/it]\n",
      "Computing events after peaks: 100%|██████████| 6/6 [00:58<00:00,  9.77s/it]\n"
     ]
    },
    {
     "name": "stdout",
     "output_type": "stream",
     "text": [
      "==================================================\n",
      "\n",
      "SAMPLE 13\n",
      "Computing activity for random heights\n",
      "- Number of random peaks =  1354\n",
      "Computing activity for given heights\n",
      "- Number of peaks before =  {246067342.64662588: 311, 303344112.66686296: 228, 360620882.68710005: 148, 417897652.707337: 142, 475174422.7275741: 100, 532451192.7478112: 79}\n",
      "- Number of peaks after =  {246067342.64662588: 311, 303344112.66686296: 228, 360620882.68710005: 148, 417897652.707337: 142, 475174422.7275741: 100, 532451192.7478112: 79}\n"
     ]
    },
    {
     "name": "stderr",
     "output_type": "stream",
     "text": [
      "Computing events before peaks: 100%|██████████| 6/6 [00:45<00:00,  7.62s/it]\n",
      "Computing events after peaks: 100%|██████████| 6/6 [00:45<00:00,  7.54s/it]\n"
     ]
    },
    {
     "name": "stdout",
     "output_type": "stream",
     "text": [
      "==================================================\n",
      "\n",
      "SAMPLE 14\n",
      "Computing activity for random heights\n",
      "- Number of random peaks =  1248\n",
      "Computing activity for given heights\n",
      "- Number of peaks before =  {246067342.64662588: 369, 303344112.66686296: 268, 360620882.68710005: 235, 417897652.707337: 163, 475174422.7275741: 125, 532451192.7478112: 103}\n",
      "- Number of peaks after =  {246067342.64662588: 369, 303344112.66686296: 268, 360620882.68710005: 235, 417897652.707337: 163, 475174422.7275741: 125, 532451192.7478112: 103}\n"
     ]
    },
    {
     "name": "stderr",
     "output_type": "stream",
     "text": [
      "Computing events before peaks: 100%|██████████| 6/6 [01:03<00:00, 10.55s/it]\n",
      "Computing events after peaks: 100%|██████████| 6/6 [00:56<00:00,  9.34s/it]\n"
     ]
    },
    {
     "name": "stdout",
     "output_type": "stream",
     "text": [
      "==================================================\n",
      "\n",
      "SAMPLE 15\n",
      "Computing activity for random heights\n",
      "- Number of random peaks =  1279\n",
      "Computing activity for given heights\n",
      "- Number of peaks before =  {246067342.64662588: 424, 303344112.66686296: 306, 360620882.68710005: 230, 417897652.707337: 202, 475174422.7275741: 173, 532451192.7478112: 115}\n",
      "- Number of peaks after =  {246067342.64662588: 424, 303344112.66686296: 306, 360620882.68710005: 230, 417897652.707337: 202, 475174422.7275741: 173, 532451192.7478112: 115}\n"
     ]
    },
    {
     "name": "stderr",
     "output_type": "stream",
     "text": [
      "Computing events before peaks: 100%|██████████| 6/6 [01:04<00:00, 10.72s/it]\n",
      "Computing events after peaks: 100%|██████████| 6/6 [01:03<00:00, 10.60s/it]\n"
     ]
    },
    {
     "name": "stdout",
     "output_type": "stream",
     "text": [
      "==================================================\n",
      "\n",
      "SAMPLE 16\n",
      "Computing activity for random heights\n",
      "- Number of random peaks =  1265\n",
      "Computing activity for given heights\n",
      "- Number of peaks before =  {246067342.64662588: 297, 303344112.66686296: 219, 360620882.68710005: 204, 417897652.707337: 133, 475174422.7275741: 113, 532451192.7478112: 98}\n",
      "- Number of peaks after =  {246067342.64662588: 297, 303344112.66686296: 219, 360620882.68710005: 204, 417897652.707337: 133, 475174422.7275741: 113, 532451192.7478112: 98}\n"
     ]
    },
    {
     "name": "stderr",
     "output_type": "stream",
     "text": [
      "Computing events before peaks: 100%|██████████| 6/6 [00:48<00:00,  8.15s/it]\n",
      "Computing events after peaks: 100%|██████████| 6/6 [00:47<00:00,  7.85s/it]\n"
     ]
    },
    {
     "name": "stdout",
     "output_type": "stream",
     "text": [
      "==================================================\n",
      "\n",
      "SAMPLE 17\n",
      "Computing activity for random heights\n",
      "- Number of random peaks =  1229\n",
      "Computing activity for given heights\n",
      "- Number of peaks before =  {246067342.64662588: 353, 303344112.66686296: 274, 360620882.68710005: 204, 417897652.707337: 162, 475174422.7275741: 115, 532451192.7478112: 103}\n",
      "- Number of peaks after =  {246067342.64662588: 353, 303344112.66686296: 274, 360620882.68710005: 204, 417897652.707337: 162, 475174422.7275741: 115, 532451192.7478112: 103}\n"
     ]
    },
    {
     "name": "stderr",
     "output_type": "stream",
     "text": [
      "Computing events before peaks: 100%|██████████| 6/6 [00:54<00:00,  9.16s/it]\n",
      "Computing events after peaks: 100%|██████████| 6/6 [00:53<00:00,  8.86s/it]\n"
     ]
    },
    {
     "name": "stdout",
     "output_type": "stream",
     "text": [
      "==================================================\n",
      "\n",
      "SAMPLE 18\n",
      "Computing activity for random heights\n",
      "- Number of random peaks =  1312\n",
      "Computing activity for given heights\n",
      "- Number of peaks before =  {246067342.64662588: 373, 303344112.66686296: 318, 360620882.68710005: 212, 417897652.707337: 166, 475174422.7275741: 130, 532451192.7478112: 119}\n",
      "- Number of peaks after =  {246067342.64662588: 373, 303344112.66686296: 318, 360620882.68710005: 212, 417897652.707337: 166, 475174422.7275741: 130, 532451192.7478112: 119}\n"
     ]
    },
    {
     "name": "stderr",
     "output_type": "stream",
     "text": [
      "Computing events before peaks: 100%|██████████| 6/6 [00:58<00:00,  9.69s/it]\n",
      "Computing events after peaks: 100%|██████████| 6/6 [00:57<00:00,  9.52s/it]\n"
     ]
    },
    {
     "name": "stdout",
     "output_type": "stream",
     "text": [
      "==================================================\n",
      "\n",
      "SAMPLE 19\n",
      "Computing activity for random heights\n",
      "- Number of random peaks =  1273\n",
      "Computing activity for given heights\n",
      "- Number of peaks before =  {246067342.64662588: 348, 303344112.66686296: 212, 360620882.68710005: 194, 417897652.707337: 134, 475174422.7275741: 105, 532451192.7478112: 91}\n",
      "- Number of peaks after =  {246067342.64662588: 348, 303344112.66686296: 212, 360620882.68710005: 194, 417897652.707337: 134, 475174422.7275741: 105, 532451192.7478112: 91}\n"
     ]
    },
    {
     "name": "stderr",
     "output_type": "stream",
     "text": [
      "Computing events before peaks: 100%|██████████| 6/6 [00:48<00:00,  8.06s/it]\n",
      "Computing events after peaks: 100%|██████████| 6/6 [00:48<00:00,  8.07s/it]\n"
     ]
    },
    {
     "name": "stdout",
     "output_type": "stream",
     "text": [
      "==================================================\n",
      "\n",
      "SAMPLE 20\n",
      "Computing activity for random heights\n",
      "- Number of random peaks =  1214\n",
      "Computing activity for given heights\n",
      "- Number of peaks before =  {246067342.64662588: 427, 303344112.66686296: 280, 360620882.68710005: 247, 417897652.707337: 210, 475174422.7275741: 170, 532451192.7478112: 132}\n",
      "- Number of peaks after =  {246067342.64662588: 427, 303344112.66686296: 280, 360620882.68710005: 247, 417897652.707337: 210, 475174422.7275741: 170, 532451192.7478112: 132}\n"
     ]
    },
    {
     "name": "stderr",
     "output_type": "stream",
     "text": [
      "Computing events before peaks: 100%|██████████| 6/6 [01:04<00:00, 10.80s/it]\n",
      "Computing events after peaks: 100%|██████████| 6/6 [01:05<00:00, 10.84s/it]\n"
     ]
    },
    {
     "name": "stdout",
     "output_type": "stream",
     "text": [
      "==================================================\n",
      "\n",
      "SAMPLE 21\n",
      "Computing activity for random heights\n",
      "- Number of random peaks =  1277\n",
      "Computing activity for given heights\n",
      "- Number of peaks before =  {246067342.64662588: 311, 303344112.66686296: 211, 360620882.68710005: 174, 417897652.707337: 122, 475174422.7275741: 94, 532451192.7478112: 85}\n",
      "- Number of peaks after =  {246067342.64662588: 311, 303344112.66686296: 211, 360620882.68710005: 174, 417897652.707337: 122, 475174422.7275741: 94, 532451192.7478112: 85}\n"
     ]
    },
    {
     "name": "stderr",
     "output_type": "stream",
     "text": [
      "Computing events before peaks: 100%|██████████| 6/6 [00:43<00:00,  7.31s/it]\n",
      "Computing events after peaks: 100%|██████████| 6/6 [00:43<00:00,  7.23s/it]\n"
     ]
    },
    {
     "name": "stdout",
     "output_type": "stream",
     "text": [
      "==================================================\n",
      "\n",
      "SAMPLE 22\n",
      "Computing activity for random heights\n",
      "- Number of random peaks =  1292\n",
      "Computing activity for given heights\n",
      "- Number of peaks before =  {246067342.64662588: 355, 303344112.66686296: 295, 360620882.68710005: 208, 417897652.707337: 165, 475174422.7275741: 123, 532451192.7478112: 105}\n",
      "- Number of peaks after =  {246067342.64662588: 355, 303344112.66686296: 295, 360620882.68710005: 208, 417897652.707337: 165, 475174422.7275741: 123, 532451192.7478112: 105}\n"
     ]
    },
    {
     "name": "stderr",
     "output_type": "stream",
     "text": [
      "Computing events before peaks: 100%|██████████| 6/6 [00:54<00:00,  9.13s/it]\n",
      "Computing events after peaks: 100%|██████████| 6/6 [00:58<00:00,  9.76s/it]\n"
     ]
    },
    {
     "name": "stdout",
     "output_type": "stream",
     "text": [
      "==================================================\n",
      "\n",
      "SAMPLE 23\n",
      "Computing activity for random heights\n",
      "- Number of random peaks =  1264\n"
     ]
    }
   ],
   "execution_count": null
  },
  {
   "metadata": {
    "jupyter": {
     "is_executing": true
    }
   },
   "cell_type": "code",
   "source": [
    "if COMPUTE_ACTIVITY_FOR_RANDOM_HEIGHTS:\n",
    "    random_time_windows = output_dicts[0]['random_time_windows']\n",
    "    \n",
    "    all_random_n_before = np.concatenate([output_dicts[i]['random_n_before'] for i in range(N_SAMPLES)], axis=0)\n",
    "    mean_random_n_before = np.mean(all_random_n_before, axis=0)\n",
    "    std_random_n_before = np.std(all_random_n_before, axis=0, ddof=1)\n",
    "\n",
    "    all_random_n_after = np.concatenate([output_dicts[i]['random_n_after'] for i in range(N_SAMPLES)], axis=0)\n",
    "    mean_random_n_after = np.mean(all_random_n_after, axis=0)\n",
    "    std_random_n_after = np.std(all_random_n_after, axis=0, ddof=1)\n",
    "    \n",
    "    all_random_n_peaks = np.sum([output_dicts[i]['n_random_peaks'] for i in range(N_SAMPLES)], axis=0)\n",
    "    \n",
    "    random_activity_before = all_random_n_before / random_time_windows\n",
    "    mean_random_activity_before = np.mean(random_activity_before, axis=0)\n",
    "    std_random_activity_before = np.std(random_activity_before, axis=0, ddof=1)\n",
    "    \n",
    "    random_activity_after = all_random_n_after / random_time_windows\n",
    "    mean_random_activity_after = np.mean(random_activity_after, axis=0)\n",
    "    std_random_activity_after = np.std(random_activity_after, axis=0, ddof=1)"
   ],
   "id": "67f3682d02bb1879",
   "outputs": [],
   "execution_count": null
  },
  {
   "metadata": {
    "jupyter": {
     "is_executing": true
    }
   },
   "cell_type": "code",
   "source": [
    "# Concatenate across samples for the same peak height\n",
    "if COMPUTE_ACTIVITY_FOR_GIVEN_HEIGHTS:\n",
    "    time_windows = output_dicts[0]['time_windows']\n",
    "    \n",
    "    all_n_before = [output_dicts[i]['n_before'] for i in range(N_SAMPLES)]\n",
    "    all_n_before = concatenate_result(all_n_before, HEIGHTS, N_SAMPLES)\n",
    "    mean_n_before = {h: np.mean(all_n_before[h], axis=0) for h in HEIGHTS}\n",
    "    std_n_before = {h: np.std(all_n_before[h], axis=0, ddof=1) for h in HEIGHTS}\n",
    "    \n",
    "    all_n_after = [output_dicts[i]['n_after'] for i in range(N_SAMPLES)]\n",
    "    all_n_after = concatenate_result(all_n_after, HEIGHTS, N_SAMPLES)\n",
    "    mean_n_after = {h: np.mean(all_n_after[h], axis=0) for h in HEIGHTS}\n",
    "    std_n_after = {h: np.std(all_n_after[h], axis=0, ddof=1) for h in HEIGHTS}\n",
    "    \n",
    "    all_n_peaks = [output_dicts[i]['n_peaks'] for i in range(N_SAMPLES)]\n",
    "    all_n_peaks = {h: np.sum([all_n_peaks[i][h] for i in range(N_SAMPLES)]) for h in HEIGHTS}\n",
    "    \n",
    "    activity_before = {h: all_n_before[h] / time_windows for h in HEIGHTS}\n",
    "    mean_activity_before = {h: np.mean(activity_before[h], axis=0) for h in HEIGHTS}\n",
    "    std_activity_before = {h: np.std(activity_before[h], axis=0, ddof=1) for h in HEIGHTS}\n",
    "    \n",
    "    activity_after = {h: all_n_after[h] / time_windows for h in HEIGHTS}\n",
    "    mean_activity_after = {h: np.mean(activity_after[h], axis=0) for h in HEIGHTS}\n",
    "    std_activity_after = {h: np.std(activity_after[h], axis=0, ddof=1) for h in HEIGHTS}\n",
    "    \n",
    "    normalized_mean_activity_before = {h: mean_activity_before[h] / mean_activity_before[h][0] for h in HEIGHTS}\n",
    "    normalized_mean_activity_after = {h: mean_activity_after[h] / mean_activity_after[h][0] for h in HEIGHTS}"
   ],
   "id": "69c458480cab9a4d",
   "outputs": [],
   "execution_count": null
  },
  {
   "metadata": {},
   "cell_type": "markdown",
   "source": "# Distribution of Peak Heights",
   "id": "8aa8c4590ec188f3"
  },
  {
   "metadata": {
    "jupyter": {
     "is_executing": true
    }
   },
   "cell_type": "code",
   "source": [
    "fit = powerlaw.Fit(all_peak_heights, xmin=min(all_peak_heights), xmax=max(all_peak_heights), discrete=True)\n",
    "print(f\"Exponent: {fit.alpha}\")\n",
    "print(f\"Error: {fit.sigma}\")\n",
    "\n",
    "cmap = plt.get_cmap('jet')\n",
    "c = [cmap(i) for i in np.linspace(0.15, 0.9, 2)]\n",
    "\n",
    "fig, ax = plt.subplots(figsize=(8, 6))\n",
    "fit.plot_pdf(color=c[0], marker='o', linestyle='None', \n",
    "             ax=ax, label=rf'$\\tau_{{\\rm exp}}=-{fit.alpha:.3f}$',\n",
    "             markeredgecolor='black', alpha=0.5)\n",
    "fit.power_law.plot_pdf(color=c[1], linestyle='--', ax=ax)\n",
    "\n",
    "fit2 = powerlaw.Fit(all_peak_heights, xmin=min(all_peak_heights), xmax=max(all_peak_heights), discrete=False)\n",
    "fit2.plot_pdf(color='black', marker='o', linestyle='None', \n",
    "              ax=ax, label=rf'$\\tau_{{\\rm exp}}=-{fit2.alpha:.3f}$',\n",
    "              markeredgecolor='blue', alpha=0.5)\n",
    "fit2.power_law.plot_pdf(color='black', linestyle='--', ax=ax)\n",
    "\n",
    "h_plot = np.linspace(min(all_peak_heights), max(all_peak_heights), 100)\n",
    "ax.plot(h_plot, h_plot**-TAU, color='black', linestyle='--', label=rf'$h^{{\\tau}}$')\n",
    "ax.set_xlabel(r'$\\boldsymbol{h}$')\n",
    "ax.set_ylabel(r'$\\boldsymbol{P(h)}$')\n",
    "ax.legend()\n",
    "plt.grid(True, alpha=0.4, linestyle='--', which='both')\n",
    "plt.ylim(1e-13, 5e-6)\n",
    "plt.show()"
   ],
   "id": "2457250fcc9cdcef",
   "outputs": [],
   "execution_count": null
  },
  {
   "metadata": {},
   "cell_type": "markdown",
   "source": "# Mean Activity for Random Peak Heights",
   "id": "17fd4f846e9d9acf"
  },
  {
   "metadata": {
    "jupyter": {
     "is_executing": true
    }
   },
   "cell_type": "code",
   "source": [
    "if COMPUTE_ACTIVITY_FOR_RANDOM_HEIGHTS:\n",
    "    fig, axs = plt.subplots(2, 1, sharex=True, figsize=(10, 10))\n",
    "    \n",
    "    axs[0].plot(random_time_windows, mean_random_activity_before, marker='o', linestyle='-', color='b', label='Before peak')\n",
    "    axs[0].plot(random_time_windows, mean_random_activity_after, marker='o', linestyle='-', color='r', label='After peak')\n",
    "    axs[0].set_xscale('log')\n",
    "    axs[0].set_yscale('log')\n",
    "    axs[0].set_ylabel(r'$\\boldsymbol{\\langle a \\rangle}$')\n",
    "    axs[0].legend(loc='best')\n",
    "    axs[0].grid(True, alpha=0.3, which='both', ls='--')\n",
    "    \n",
    "    axs[1].plot(random_time_windows, mean_random_n_before, marker='o', linestyle='-', color='b', label='Before peak')\n",
    "    axs[1].plot(random_time_windows, mean_random_n_after, marker='o', linestyle='-', color='r', label='After peak')\n",
    "    axs[1].plot(random_time_windows, 1e6*random_time_windows, linestyle='--', color='black', label=r'$\\propto \\Delta t$')\n",
    "    axs[1].set_xscale('log')\n",
    "    axs[1].set_yscale('log')\n",
    "    axs[1].set_xlabel(r'$\\boldsymbol{\\Delta t/\\tau_\\alpha}$')\n",
    "    axs[1].set_ylabel(r'$\\boldsymbol{\\langle n \\rangle}$')\n",
    "    axs[1].legend(loc='best')\n",
    "    axs[1].grid(True, alpha=0.3, which='both', ls='--')\n",
    "    \n",
    "    plt.tight_layout()\n",
    "    plt.show()"
   ],
   "id": "205cab22fc193442",
   "outputs": [],
   "execution_count": null
  },
  {
   "metadata": {},
   "cell_type": "markdown",
   "source": "# Mean Activity for Given Peak Heights",
   "id": "75b5a14e0ff0caba"
  },
  {
   "metadata": {
    "jupyter": {
     "is_executing": true
    }
   },
   "cell_type": "code",
   "source": [
    "if COMPUTE_ACTIVITY_FOR_GIVEN_HEIGHTS:\n",
    "    cmap_before = plt.get_cmap('Greens')\n",
    "    colors_before = cmap_before(np.linspace(0.5, 0.99, N_H))\n",
    "    cmap_after = plt.get_cmap('Blues')\n",
    "    colors_after = cmap_after(np.linspace(0.5, 0.99, N_H))\n",
    "    \n",
    "    fig, axs = plt.subplots(2, 1, figsize=(10,8), sharex=True)\n",
    "    for i, (h, n_std) in enumerate(zip(HEIGHTS, N_STD)):\n",
    "        axs[0].plot(time_windows, mean_n_after[h], linestyle='-', markersize=8,\n",
    "                    marker=r'$S$', color=colors_after[i], label=rf'A: $h=\\bar h+{n_std:.0f}\\sigma_h$')\n",
    "        axs[0].plot(time_windows, mean_n_before[h], linestyle='-', markersize=6,\n",
    "                    marker='o', color=colors_before[i], label=rf'B: $h=\\bar h+{n_std:.0f}\\sigma_h$')\n",
    "        axs[1].plot(time_windows, mean_activity_after[h], linestyle='-', marker=r'$S$', color=colors_after[i], markersize=8)\n",
    "        axs[1].plot(time_windows, mean_activity_before[h], linestyle='-', marker='o', color=colors_before[i], markersize=6)\n",
    "    \n",
    "    axs[0].set_xscale('log')\n",
    "    axs[0].set_yscale('log')\n",
    "    axs[0].set_ylabel(r'$N$')\n",
    "    axs[0].grid(True, alpha=0.3, which='both', ls='--')\n",
    "    axs[0].set_xlim(min(time_windows), max(time_windows))\n",
    "    axs[0].set_ylim(min([mean_n_before[h].min() for h in HEIGHTS] + [mean_n_after[h].min() for h in HEIGHTS]),\n",
    "                    max([mean_n_before[h].max() for h in HEIGHTS] + [mean_n_after[h].max() for h in HEIGHTS]))\n",
    "    \n",
    "    axs[1].set_xscale('log')\n",
    "    axs[1].set_yscale('log')\n",
    "    axs[1].set_xlabel(r'$\\Delta t/\\tau_\\alpha$')\n",
    "    axs[1].set_ylabel(r'$A$')\n",
    "    axs[1].grid(True, alpha=0.3, which='both', ls='--')\n",
    "    axs[1].set_xlim(min(time_windows), max(time_windows))\n",
    "    axs[1].set_ylim(min([mean_activity_before[h].min() for h in HEIGHTS] + [mean_activity_after[h].min() for h in HEIGHTS]),\n",
    "                    max([mean_activity_before[h].max() for h in HEIGHTS] + [mean_activity_after[h].max() for h in HEIGHTS]))\n",
    "\n",
    "    lines_labels = [axs[0].get_legend_handles_labels()]\n",
    "    lines, labels = [sum(lol, []) for lol in zip(*lines_labels)]\n",
    "    fig.legend(lines, labels, loc='center left', bbox_to_anchor=(1, 0.5), ncol=1)\n",
    "    \n",
    "    plt.tight_layout()\n",
    "    plt.show()"
   ],
   "id": "eb274403fc50f562",
   "outputs": [],
   "execution_count": null
  },
  {
   "metadata": {
    "jupyter": {
     "is_executing": true
    }
   },
   "cell_type": "code",
   "source": [
    "if COMPUTE_ACTIVITY_FOR_GIVEN_HEIGHTS:\n",
    "    cmap_before = plt.get_cmap('Greens')\n",
    "    colors_before = cmap_before(np.linspace(0.5, 0.99, N_H))\n",
    "    cmap_after = plt.get_cmap('Blues')\n",
    "    colors_after = cmap_after(np.linspace(0.5, 0.99, N_H))\n",
    "\n",
    "    fig, axs = plt.subplots(2, 1, figsize=(10,8), sharex=True)\n",
    "    for i, (h, n_std) in enumerate(zip(HEIGHTS, N_STD)):\n",
    "        axs[0].plot(time_windows, mean_n_after[h], linestyle='-', markersize=8,\n",
    "                    marker=r'$S$', color=colors_after[i], label=rf'A: $h=\\bar h+{n_std:.0f}\\sigma_h$')\n",
    "        axs[0].plot(time_windows, mean_n_before[h], linestyle='-', markersize=6,\n",
    "                    marker='o', color=colors_before[i], label=rf'B: $h=\\bar h+{n_std:.0f}\\sigma_h$')\n",
    "        axs[1].plot(time_windows, normalized_mean_activity_after[h], linestyle='-', marker=r'$S$', color=colors_after[i], markersize=8)\n",
    "        axs[1].plot(time_windows, normalized_mean_activity_before[h], linestyle='-', marker='o', color=colors_before[i], markersize=6)\n",
    "\n",
    "    axs[0].set_xscale('log')\n",
    "    axs[0].set_yscale('log')\n",
    "    axs[0].set_ylabel(r'$N$')\n",
    "    axs[0].grid(True, alpha=0.3, which='both', ls='--')\n",
    "    axs[0].set_xlim(min(time_windows), max(time_windows))\n",
    "    axs[0].set_ylim(min([mean_n_before[h].min() for h in HEIGHTS] + [mean_n_after[h].min() for h in HEIGHTS]),\n",
    "                    max([mean_n_before[h].max() for h in HEIGHTS] + [mean_n_after[h].max() for h in HEIGHTS]))\n",
    "\n",
    "    axs[1].set_xscale('log')\n",
    "    axs[1].set_yscale('log')\n",
    "    axs[1].set_xlabel(r'$\\Delta t/\\tau_\\alpha$')\n",
    "    axs[1].set_ylabel(r'$A$')\n",
    "    axs[1].grid(True, alpha=0.3, which='both', ls='--')\n",
    "    axs[1].set_xlim(min(time_windows), max(time_windows))\n",
    "    axs[1].set_ylim(min([normalized_mean_activity_before[h].min() for h in HEIGHTS] + [normalized_mean_activity_after[h].min() for h in HEIGHTS]),\n",
    "                    max([normalized_mean_activity_before[h].max() for h in HEIGHTS] + [normalized_mean_activity_after[h].max() for h in HEIGHTS]))\n",
    "\n",
    "    lines_labels = [axs[0].get_legend_handles_labels()]\n",
    "    lines, labels = [sum(lol, []) for lol in zip(*lines_labels)]\n",
    "    fig.legend(lines, labels, loc='center left', bbox_to_anchor=(1, 0.5), ncol=1)\n",
    "\n",
    "    plt.tight_layout()\n",
    "    plt.show()"
   ],
   "id": "2696e4d4922324f9",
   "outputs": [],
   "execution_count": null
  },
  {
   "metadata": {},
   "cell_type": "code",
   "source": "",
   "id": "a94a6660a90c4d35",
   "outputs": [],
   "execution_count": null
  }
 ],
 "metadata": {
  "kernelspec": {
   "display_name": "Python 3",
   "language": "python",
   "name": "python3"
  },
  "language_info": {
   "codemirror_mode": {
    "name": "ipython",
    "version": 2
   },
   "file_extension": ".py",
   "mimetype": "text/x-python",
   "name": "python",
   "nbconvert_exporter": "python",
   "pygments_lexer": "ipython2",
   "version": "2.7.6"
  }
 },
 "nbformat": 4,
 "nbformat_minor": 5
}
